{
 "cells": [
  {
   "cell_type": "markdown",
   "id": "a365f51d",
   "metadata": {},
   "source": [
    "<table align=\"left\" width=100%>\n",
    "    <tr>\n",
    "        <td width=\"20%\">\n",
    "            <img src=\"GL-2.png\">\n",
    "        </td>\n",
    "        <td>\n",
    "            <div align=\"center\">\n",
    "                <font color=\"#21618C\" size=8px>\n",
    "                  <b> Hackathons <br> 1 </b>\n",
    "                </font>\n",
    "            </div>\n",
    "        </td>\n",
    "    </tr>\n",
    "</table>"
   ]
  },
  {
   "cell_type": "markdown",
   "id": "d286efbd",
   "metadata": {},
   "source": [
    "\n",
    "Data Dictionary :\n",
    "------------------\n",
    "\n",
    "1) index\t\t-\tIndex No/Row No\n",
    "\n",
    "2) year_of_poll\t\t-\tYear for the conducted poll\n",
    "\n",
    "3) own_self_emp\t\t-\tBusiness Status( Unemployed - 0 , Business Owned - 1 , Self Employed - 2)\n",
    "\n",
    "4) veteran benefits\t-\tVeteran Benefits (0 - No Benefits, 1 - Cadre1 Benefits, 2- Cadre2 Benefits)\t\n",
    "\n",
    "5) currently_enrolled\t-\tCurrent enrolled in college/school.\n",
    "\n",
    "6) race\t\t\t-\tRace of people in the poll\n",
    "\n",
    "7) father_country\t-\tBirth country of father \n",
    "\n",
    "8) educ\t\t\t-\tSpecific education status \n",
    "\n",
    "9) house_stat\t\t-\tDemography in person's house \n",
    "\n",
    "10) major_ind_code\t-\tDifferent Industries where a person is working \n",
    "\n",
    "11) labour_union\t-\tMember of Labour Union \n",
    "\n",
    "12) self_country\t-\tCountry of oneself\n",
    "\n",
    "13) major_occ_code\t-\tOccupation a person performs in specific industry \n",
    "\n",
    "14) age\t\t\t-\tage of a person\n",
    "\n",
    "15) mother_country\t-\tBirth country of mother \n",
    "\n",
    "16) house_summary\t-\tdetailed household summary\n",
    "\n",
    "17) gender\t\t-\tGender of a person\n",
    "\n",
    "18) hisp_origin\t\t-\tOrigins of people in South America\n",
    "\n",
    "19) gains\t\t-\tcapital gains on investments\n",
    "\n",
    "20) dividends\t\t-\tdividends earned from stocks \n",
    "\n",
    "21) marriage_status\t-\tCurrent marital status\n",
    "\n",
    "22) losses\t\t-   \tcapital losses on investments\n",
    "\n",
    "23) employer_of\t\t-\tNumber of people employed under an employer\n",
    "\n",
    "24) house_1yr_ago\t-\tLiving in house for under 1 yr\n",
    "\n",
    "25) income_filled\t-\tIncome filled for tax\n",
    "\n",
    "26) weeks_worked\t-\tweeks worked in year\n",
    "\n",
    "27) under18\t\t-\tfamily members under 18\n",
    "\n",
    "28) hourly_wage\t\t-\twage earned hourly\n",
    "\n",
    "29) unemp_reason\t- \treason for unemployment \n",
    "\n",
    "30) citizenship\t\t-\tCitizenship of a person ( ' Foreign born- Not a citizen of U S ':'FB',\n",
    "\t\t\t\t' Native- Born in Puerto Rico or U S Outlying':'NB_PR',' Native- Born in the United States':'NB_US',\n",
    "\t\t\t\t' Foreign born- U S citizen by naturalization':'FB_US',' Native- Born abroad of American Parent(s)':'NB_US_Parents') \n",
    "\n",
    "31) woker_type\t\t-\tKind of worker \n",
    "\n",
    "32) fed_liability\t-\tFederal tax liability for people \n",
    "\n",
    "33) full_partime_job\t-\ttype of full/part-time job\n",
    "\n",
    "34) income\t\t-\tLess/More than 50k$ yearly\n"
   ]
  },
  {
   "cell_type": "code",
   "execution_count": 6,
   "id": "bf817c09",
   "metadata": {},
   "outputs": [],
   "source": [
    "# import 'Pandas' \n",
    "import pandas as pd \n",
    "\n",
    "# import 'Numpy' \n",
    "import numpy as np\n",
    "\n",
    "# import subpackage of Matplotlib\n",
    "import matplotlib.pyplot as plt\n",
    "from matplotlib.colors import ListedColormap\n",
    "\n",
    "# import 'Seaborn' \n",
    "import seaborn as sns\n",
    "\n",
    "# to suppress warnings \n",
    "from warnings import filterwarnings\n",
    "filterwarnings('ignore')\n",
    "\n",
    "# display all columns of the dataframe\n",
    "pd.options.display.max_columns = None\n",
    "\n",
    "# display all rows of the dataframe\n",
    "pd.options.display.max_rows = None\n",
    " \n",
    "# to display the float values upto 6 decimal places     \n",
    "pd.options.display.float_format = '{:.6f}'.format\n",
    "\n",
    "# import train-test split \n",
    "from sklearn.model_selection import train_test_split\n",
    "\n",
    "# import various functions from statsmodels\n",
    "import statsmodels\n",
    "import statsmodels.api as sm\n",
    "\n",
    "# import StandardScaler to perform scaling\n",
    "from sklearn.preprocessing import StandardScaler \n",
    "\n",
    "# import various functions from sklearn \n",
    "from sklearn import metrics\n",
    "from sklearn.linear_model import LogisticRegression\n",
    "from sklearn.metrics import classification_report\n",
    "from sklearn.metrics import cohen_kappa_score\n",
    "from sklearn.metrics import confusion_matrix\n",
    "from sklearn.metrics import roc_curve\n",
    "from sklearn.metrics import accuracy_score\n",
    "\n",
    "# import function to perform feature selection\n",
    "from sklearn.feature_selection import RFE"
   ]
  },
  {
   "cell_type": "code",
   "execution_count": 7,
   "id": "42cc8eae",
   "metadata": {},
   "outputs": [
    {
     "data": {
      "text/html": [
       "<div>\n",
       "<style scoped>\n",
       "    .dataframe tbody tr th:only-of-type {\n",
       "        vertical-align: middle;\n",
       "    }\n",
       "\n",
       "    .dataframe tbody tr th {\n",
       "        vertical-align: top;\n",
       "    }\n",
       "\n",
       "    .dataframe thead th {\n",
       "        text-align: right;\n",
       "    }\n",
       "</style>\n",
       "<table border=\"1\" class=\"dataframe\">\n",
       "  <thead>\n",
       "    <tr style=\"text-align: right;\">\n",
       "      <th></th>\n",
       "      <th>ID</th>\n",
       "      <th>year_of_poll</th>\n",
       "      <th>own_self_emp</th>\n",
       "      <th>veteran benefits</th>\n",
       "      <th>currently_enrolled</th>\n",
       "      <th>race</th>\n",
       "      <th>father_country</th>\n",
       "      <th>educ</th>\n",
       "      <th>house_stat</th>\n",
       "      <th>major_ind_code</th>\n",
       "      <th>labour_union</th>\n",
       "      <th>self_country</th>\n",
       "      <th>major_occ_code</th>\n",
       "      <th>age</th>\n",
       "      <th>mother_country</th>\n",
       "      <th>house_summary</th>\n",
       "      <th>gender</th>\n",
       "      <th>hisp_origin</th>\n",
       "      <th>gains</th>\n",
       "      <th>dividends</th>\n",
       "      <th>marriage_status</th>\n",
       "      <th>losses</th>\n",
       "      <th>employer_of</th>\n",
       "      <th>house_1yr_ago</th>\n",
       "      <th>income_filled</th>\n",
       "      <th>weeks_worked</th>\n",
       "      <th>under18</th>\n",
       "      <th>hourly_wage</th>\n",
       "      <th>unemp_reason</th>\n",
       "      <th>citizenship</th>\n",
       "      <th>woker_type</th>\n",
       "      <th>fed_liability</th>\n",
       "      <th>full_partime_job</th>\n",
       "      <th>income</th>\n",
       "    </tr>\n",
       "  </thead>\n",
       "  <tbody>\n",
       "    <tr>\n",
       "      <th>0</th>\n",
       "      <td>0</td>\n",
       "      <td>2004</td>\n",
       "      <td>0</td>\n",
       "      <td>2</td>\n",
       "      <td>High school</td>\n",
       "      <td>White</td>\n",
       "      <td>United-States</td>\n",
       "      <td>Associates degree-academic program</td>\n",
       "      <td>Householder</td>\n",
       "      <td>Business and repair services</td>\n",
       "      <td>no</td>\n",
       "      <td>United-States</td>\n",
       "      <td>Protective services</td>\n",
       "      <td>42</td>\n",
       "      <td>United-States</td>\n",
       "      <td>Householder</td>\n",
       "      <td>M</td>\n",
       "      <td>All_Other</td>\n",
       "      <td>0.000000</td>\n",
       "      <td>0.000000</td>\n",
       "      <td>Married_civilian_Sp_Pr</td>\n",
       "      <td>0.000000</td>\n",
       "      <td>1</td>\n",
       "      <td>No</td>\n",
       "      <td>No</td>\n",
       "      <td>47</td>\n",
       "      <td>NaN</td>\n",
       "      <td>0.000000</td>\n",
       "      <td>NaN</td>\n",
       "      <td>NB_US</td>\n",
       "      <td>Pvt</td>\n",
       "      <td>Joint_both_under65</td>\n",
       "      <td>Children/Armed_Forces</td>\n",
       "      <td>More than 50K $</td>\n",
       "    </tr>\n",
       "    <tr>\n",
       "      <th>1</th>\n",
       "      <td>1</td>\n",
       "      <td>2005</td>\n",
       "      <td>0</td>\n",
       "      <td>0</td>\n",
       "      <td>College/University</td>\n",
       "      <td>White</td>\n",
       "      <td>Japan</td>\n",
       "      <td>Children</td>\n",
       "      <td>Child &lt;18 never marr not in subfamily</td>\n",
       "      <td>Not in universe or children</td>\n",
       "      <td>NaN</td>\n",
       "      <td>United-States</td>\n",
       "      <td>NaN</td>\n",
       "      <td>10</td>\n",
       "      <td>United-States</td>\n",
       "      <td>Child_U18_Unmarried</td>\n",
       "      <td>M</td>\n",
       "      <td>Mex_Amer</td>\n",
       "      <td>0.000000</td>\n",
       "      <td>0.000000</td>\n",
       "      <td>Unmarried</td>\n",
       "      <td>0.000000</td>\n",
       "      <td>0</td>\n",
       "      <td>NaN</td>\n",
       "      <td>No</td>\n",
       "      <td>0</td>\n",
       "      <td>Both_Pr</td>\n",
       "      <td>0.000000</td>\n",
       "      <td>NaN</td>\n",
       "      <td>NB_US</td>\n",
       "      <td>NaN</td>\n",
       "      <td>Nonfiler</td>\n",
       "      <td>Children/Armed_Forces</td>\n",
       "      <td>More than 50K $</td>\n",
       "    </tr>\n",
       "  </tbody>\n",
       "</table>\n",
       "</div>"
      ],
      "text/plain": [
       "   ID  year_of_poll  own_self_emp  veteran benefits  currently_enrolled  \\\n",
       "0   0          2004             0                 2         High school   \n",
       "1   1          2005             0                 0  College/University   \n",
       "\n",
       "     race  father_country                                 educ  \\\n",
       "0   White   United-States   Associates degree-academic program   \n",
       "1   White           Japan                             Children   \n",
       "\n",
       "                               house_stat                 major_ind_code  \\\n",
       "0                             Householder   Business and repair services   \n",
       "1   Child <18 never marr not in subfamily    Not in universe or children   \n",
       "\n",
       "  labour_union    self_country        major_occ_code  age  mother_country  \\\n",
       "0           no   United-States   Protective services   42   United-States   \n",
       "1          NaN   United-States                   NaN   10   United-States   \n",
       "\n",
       "         house_summary gender hisp_origin    gains  dividends  \\\n",
       "0          Householder      M   All_Other 0.000000   0.000000   \n",
       "1  Child_U18_Unmarried      M    Mex_Amer 0.000000   0.000000   \n",
       "\n",
       "          marriage_status   losses  employer_of house_1yr_ago income_filled  \\\n",
       "0  Married_civilian_Sp_Pr 0.000000            1            No            No   \n",
       "1               Unmarried 0.000000            0           NaN            No   \n",
       "\n",
       "   weeks_worked  under18  hourly_wage unemp_reason citizenship woker_type  \\\n",
       "0            47      NaN     0.000000          NaN       NB_US        Pvt   \n",
       "1             0  Both_Pr     0.000000          NaN       NB_US        NaN   \n",
       "\n",
       "        fed_liability       full_partime_job           income  \n",
       "0  Joint_both_under65  Children/Armed_Forces  More than 50K $  \n",
       "1            Nonfiler  Children/Armed_Forces  More than 50K $  "
      ]
     },
     "execution_count": 7,
     "metadata": {},
     "output_type": "execute_result"
    }
   ],
   "source": [
    "# load the csv file\n",
    "# store the data in 'df_admissions'\n",
    "df = pd.read_csv('train.csv')\n",
    "\n",
    "# display first five observations using head()\n",
    "df.head(2)"
   ]
  },
  {
   "cell_type": "code",
   "execution_count": 8,
   "id": "afbd4928",
   "metadata": {},
   "outputs": [
    {
     "name": "stdout",
     "output_type": "stream",
     "text": [
      "<class 'pandas.core.frame.DataFrame'>\n",
      "RangeIndex: 105000 entries, 0 to 104999\n",
      "Data columns (total 34 columns):\n",
      " #   Column              Non-Null Count   Dtype  \n",
      "---  ------              --------------   -----  \n",
      " 0   ID                  105000 non-null  int64  \n",
      " 1   year_of_poll        105000 non-null  int64  \n",
      " 2   own_self_emp        105000 non-null  int64  \n",
      " 3   veteran benefits    105000 non-null  int64  \n",
      " 4   currently_enrolled  73557 non-null   object \n",
      " 5   race                105000 non-null  object \n",
      " 6   father_country      105000 non-null  object \n",
      " 7   educ                105000 non-null  object \n",
      " 8   house_stat          104989 non-null  object \n",
      " 9   major_ind_code      105000 non-null  object \n",
      " 10  labour_union        69669 non-null   object \n",
      " 11  self_country        105000 non-null  object \n",
      " 12  major_occ_code      51945 non-null   object \n",
      " 13  age                 105000 non-null  int64  \n",
      " 14  mother_country      105000 non-null  object \n",
      " 15  house_summary       105000 non-null  object \n",
      " 16  gender              105000 non-null  object \n",
      " 17  hisp_origin         105000 non-null  object \n",
      " 18  gains               105000 non-null  float64\n",
      " 19  dividends           105000 non-null  float64\n",
      " 20  marriage_status     105000 non-null  object \n",
      " 21  losses              105000 non-null  float64\n",
      " 22  employer_of         105000 non-null  int64  \n",
      " 23  house_1yr_ago       51678 non-null   object \n",
      " 24  income_filled       72597 non-null   object \n",
      " 25  weeks_worked        105000 non-null  int64  \n",
      " 26  under18             28984 non-null   object \n",
      " 27  hourly_wage         105000 non-null  float64\n",
      " 28  unemp_reason        3189 non-null    object \n",
      " 29  citizenship         105000 non-null  object \n",
      " 30  woker_type          52165 non-null   object \n",
      " 31  fed_liability       105000 non-null  object \n",
      " 32  full_partime_job    103608 non-null  object \n",
      " 33  income              105000 non-null  object \n",
      "dtypes: float64(4), int64(7), object(23)\n",
      "memory usage: 27.2+ MB\n"
     ]
    }
   ],
   "source": [
    "df.info()"
   ]
  },
  {
   "cell_type": "code",
   "execution_count": 9,
   "id": "68c148df",
   "metadata": {},
   "outputs": [
    {
     "data": {
      "text/plain": [
       "(105000, 34)"
      ]
     },
     "execution_count": 9,
     "metadata": {},
     "output_type": "execute_result"
    }
   ],
   "source": [
    "df.shape"
   ]
  },
  {
   "cell_type": "code",
   "execution_count": 10,
   "id": "6129ef36",
   "metadata": {},
   "outputs": [
    {
     "data": {
      "text/html": [
       "<style type=\"text/css\">\n",
       "#T_7a320_row0_col0, #T_7a320_row0_col1 {\n",
       "  background-color: SkyBlue;\n",
       "}\n",
       "</style>\n",
       "<table id=\"T_7a320_\">\n",
       "  <thead>\n",
       "    <tr>\n",
       "      <th class=\"blank level0\" >&nbsp;</th>\n",
       "      <th class=\"col_heading level0 col0\" >Count</th>\n",
       "      <th class=\"col_heading level0 col1\" >Percentage</th>\n",
       "    </tr>\n",
       "  </thead>\n",
       "  <tbody>\n",
       "    <tr>\n",
       "      <th id=\"T_7a320_level0_row0\" class=\"row_heading level0 row0\" >unemp_reason</th>\n",
       "      <td id=\"T_7a320_row0_col0\" class=\"data row0 col0\" >101811</td>\n",
       "      <td id=\"T_7a320_row0_col1\" class=\"data row0 col1\" >96.962857</td>\n",
       "    </tr>\n",
       "    <tr>\n",
       "      <th id=\"T_7a320_level0_row1\" class=\"row_heading level0 row1\" >under18</th>\n",
       "      <td id=\"T_7a320_row1_col0\" class=\"data row1 col0\" >76016</td>\n",
       "      <td id=\"T_7a320_row1_col1\" class=\"data row1 col1\" >72.396190</td>\n",
       "    </tr>\n",
       "    <tr>\n",
       "      <th id=\"T_7a320_level0_row2\" class=\"row_heading level0 row2\" >house_1yr_ago</th>\n",
       "      <td id=\"T_7a320_row2_col0\" class=\"data row2 col0\" >53322</td>\n",
       "      <td id=\"T_7a320_row2_col1\" class=\"data row2 col1\" >50.782857</td>\n",
       "    </tr>\n",
       "    <tr>\n",
       "      <th id=\"T_7a320_level0_row3\" class=\"row_heading level0 row3\" >major_occ_code</th>\n",
       "      <td id=\"T_7a320_row3_col0\" class=\"data row3 col0\" >53055</td>\n",
       "      <td id=\"T_7a320_row3_col1\" class=\"data row3 col1\" >50.528571</td>\n",
       "    </tr>\n",
       "    <tr>\n",
       "      <th id=\"T_7a320_level0_row4\" class=\"row_heading level0 row4\" >woker_type</th>\n",
       "      <td id=\"T_7a320_row4_col0\" class=\"data row4 col0\" >52835</td>\n",
       "      <td id=\"T_7a320_row4_col1\" class=\"data row4 col1\" >50.319048</td>\n",
       "    </tr>\n",
       "    <tr>\n",
       "      <th id=\"T_7a320_level0_row5\" class=\"row_heading level0 row5\" >labour_union</th>\n",
       "      <td id=\"T_7a320_row5_col0\" class=\"data row5 col0\" >35331</td>\n",
       "      <td id=\"T_7a320_row5_col1\" class=\"data row5 col1\" >33.648571</td>\n",
       "    </tr>\n",
       "    <tr>\n",
       "      <th id=\"T_7a320_level0_row6\" class=\"row_heading level0 row6\" >income_filled</th>\n",
       "      <td id=\"T_7a320_row6_col0\" class=\"data row6 col0\" >32403</td>\n",
       "      <td id=\"T_7a320_row6_col1\" class=\"data row6 col1\" >30.860000</td>\n",
       "    </tr>\n",
       "    <tr>\n",
       "      <th id=\"T_7a320_level0_row7\" class=\"row_heading level0 row7\" >currently_enrolled</th>\n",
       "      <td id=\"T_7a320_row7_col0\" class=\"data row7 col0\" >31443</td>\n",
       "      <td id=\"T_7a320_row7_col1\" class=\"data row7 col1\" >29.945714</td>\n",
       "    </tr>\n",
       "    <tr>\n",
       "      <th id=\"T_7a320_level0_row8\" class=\"row_heading level0 row8\" >full_partime_job</th>\n",
       "      <td id=\"T_7a320_row8_col0\" class=\"data row8 col0\" >1392</td>\n",
       "      <td id=\"T_7a320_row8_col1\" class=\"data row8 col1\" >1.325714</td>\n",
       "    </tr>\n",
       "    <tr>\n",
       "      <th id=\"T_7a320_level0_row9\" class=\"row_heading level0 row9\" >house_stat</th>\n",
       "      <td id=\"T_7a320_row9_col0\" class=\"data row9 col0\" >11</td>\n",
       "      <td id=\"T_7a320_row9_col1\" class=\"data row9 col1\" >0.010476</td>\n",
       "    </tr>\n",
       "  </tbody>\n",
       "</table>\n"
      ],
      "text/plain": [
       "<pandas.io.formats.style.Styler at 0x236d5ace100>"
      ]
     },
     "execution_count": 10,
     "metadata": {},
     "output_type": "execute_result"
    }
   ],
   "source": [
    "#checking missing values in the dataset\n",
    "null_col=df.columns[df.isna().any()].to_list()\n",
    "null_count=df[null_col].isna().sum()\n",
    "null_count_percent=(df[null_col].isna().sum()/len(df))*100\n",
    "\n",
    "#creating a Dataframe of null count and null percent\n",
    "null_data=pd.DataFrame({'Count':null_count,'Percentage':null_count_percent}).sort_values(by='Percentage',ascending=False)\n",
    "null_data.style.highlight_max(color = 'SkyBlue', subset = ['Count','Percentage'])"
   ]
  },
  {
   "cell_type": "code",
   "execution_count": 11,
   "id": "5df61c62",
   "metadata": {},
   "outputs": [],
   "source": [
    "df.drop(['woker_type','major_occ_code','house_1yr_ago','under18','unemp_reason'],axis=1,inplace=True)"
   ]
  },
  {
   "cell_type": "code",
   "execution_count": 12,
   "id": "139e24bc",
   "metadata": {},
   "outputs": [],
   "source": [
    "df.drop('currently_enrolled',axis=1,inplace=True)"
   ]
  },
  {
   "cell_type": "code",
   "execution_count": 13,
   "id": "43588675",
   "metadata": {},
   "outputs": [
    {
     "data": {
      "text/plain": [
       "array(['no', nan, 'yes'], dtype=object)"
      ]
     },
     "execution_count": 13,
     "metadata": {},
     "output_type": "execute_result"
    }
   ],
   "source": [
    "df['labour_union'].unique()"
   ]
  },
  {
   "cell_type": "code",
   "execution_count": 14,
   "id": "ed886100",
   "metadata": {},
   "outputs": [
    {
     "data": {
      "text/plain": [
       "0    no\n",
       "dtype: object"
      ]
     },
     "execution_count": 14,
     "metadata": {},
     "output_type": "execute_result"
    }
   ],
   "source": [
    "df['labour_union'].mode()"
   ]
  },
  {
   "cell_type": "code",
   "execution_count": 15,
   "id": "4804b93f",
   "metadata": {},
   "outputs": [],
   "source": [
    "df['labour_union']=df['labour_union'].replace(to_replace=np.nan,value='no')"
   ]
  },
  {
   "cell_type": "code",
   "execution_count": 16,
   "id": "1d81ebb6",
   "metadata": {},
   "outputs": [
    {
     "data": {
      "text/plain": [
       "ID                      0\n",
       "year_of_poll            0\n",
       "own_self_emp            0\n",
       "veteran benefits        0\n",
       "race                    0\n",
       "father_country          0\n",
       "educ                    0\n",
       "house_stat             11\n",
       "major_ind_code          0\n",
       "labour_union            0\n",
       "self_country            0\n",
       "age                     0\n",
       "mother_country          0\n",
       "house_summary           0\n",
       "gender                  0\n",
       "hisp_origin             0\n",
       "gains                   0\n",
       "dividends               0\n",
       "marriage_status         0\n",
       "losses                  0\n",
       "employer_of             0\n",
       "income_filled       32403\n",
       "weeks_worked            0\n",
       "hourly_wage             0\n",
       "citizenship             0\n",
       "fed_liability           0\n",
       "full_partime_job     1392\n",
       "income                  0\n",
       "dtype: int64"
      ]
     },
     "execution_count": 16,
     "metadata": {},
     "output_type": "execute_result"
    }
   ],
   "source": [
    "df.isnull().sum()"
   ]
  },
  {
   "cell_type": "code",
   "execution_count": 17,
   "id": "31775d49",
   "metadata": {},
   "outputs": [
    {
     "data": {
      "text/plain": [
       "array([' No', ' Yes', nan], dtype=object)"
      ]
     },
     "execution_count": 17,
     "metadata": {},
     "output_type": "execute_result"
    }
   ],
   "source": [
    "df['income_filled'].unique()"
   ]
  },
  {
   "cell_type": "code",
   "execution_count": 18,
   "id": "1fb50e06",
   "metadata": {},
   "outputs": [
    {
     "data": {
      "text/plain": [
       "0     No\n",
       "dtype: object"
      ]
     },
     "execution_count": 18,
     "metadata": {},
     "output_type": "execute_result"
    }
   ],
   "source": [
    "df['income_filled'].mode()"
   ]
  },
  {
   "cell_type": "code",
   "execution_count": 19,
   "id": "cd78ab95",
   "metadata": {},
   "outputs": [],
   "source": [
    "df['income_filled']=df['income_filled'].replace(to_replace=np.nan,value='no')"
   ]
  },
  {
   "cell_type": "code",
   "execution_count": 20,
   "id": "19af7efb",
   "metadata": {},
   "outputs": [
    {
     "data": {
      "text/plain": [
       "(105000, 28)"
      ]
     },
     "execution_count": 20,
     "metadata": {},
     "output_type": "execute_result"
    }
   ],
   "source": [
    "df.shape"
   ]
  },
  {
   "cell_type": "code",
   "execution_count": 21,
   "id": "1e4c4131",
   "metadata": {},
   "outputs": [
    {
     "data": {
      "text/plain": [
       "ID                     0\n",
       "year_of_poll           0\n",
       "own_self_emp           0\n",
       "veteran benefits       0\n",
       "race                   0\n",
       "father_country         0\n",
       "educ                   0\n",
       "house_stat            11\n",
       "major_ind_code         0\n",
       "labour_union           0\n",
       "self_country           0\n",
       "age                    0\n",
       "mother_country         0\n",
       "house_summary          0\n",
       "gender                 0\n",
       "hisp_origin            0\n",
       "gains                  0\n",
       "dividends              0\n",
       "marriage_status        0\n",
       "losses                 0\n",
       "employer_of            0\n",
       "income_filled          0\n",
       "weeks_worked           0\n",
       "hourly_wage            0\n",
       "citizenship            0\n",
       "fed_liability          0\n",
       "full_partime_job    1392\n",
       "income                 0\n",
       "dtype: int64"
      ]
     },
     "execution_count": 21,
     "metadata": {},
     "output_type": "execute_result"
    }
   ],
   "source": [
    "df.isnull().sum()"
   ]
  },
  {
   "cell_type": "code",
   "execution_count": 22,
   "id": "6896e2dd",
   "metadata": {},
   "outputs": [
    {
     "data": {
      "text/plain": [
       "array(['Children/Armed_Forces', ' Full-time schedules',\n",
       "       ' Not in labor force', nan, ' PT for econ reasons usually PT',\n",
       "       ' PT for non-econ reasons usually FT', ' Unemployed full-time',\n",
       "       ' Unemployed part- time', ' PT for econ reasons usually FT'],\n",
       "      dtype=object)"
      ]
     },
     "execution_count": 22,
     "metadata": {},
     "output_type": "execute_result"
    }
   ],
   "source": [
    "df['full_partime_job'].unique()"
   ]
  },
  {
   "cell_type": "code",
   "execution_count": 23,
   "id": "b5f586bc",
   "metadata": {
    "scrolled": true
   },
   "outputs": [],
   "source": [
    "df.dropna(axis=0,inplace=True)"
   ]
  },
  {
   "cell_type": "code",
   "execution_count": 24,
   "id": "399397af",
   "metadata": {},
   "outputs": [],
   "source": [
    "df.reset_index(inplace=True, drop=True)"
   ]
  },
  {
   "cell_type": "code",
   "execution_count": 25,
   "id": "7478a67a",
   "metadata": {},
   "outputs": [],
   "source": [
    "# store the target variable 'Loan Status' in a dataframe 'df_target'\n",
    "df_target = df['income']\n",
    "\n",
    "# store all the independent variables in a dataframe 'df_feature' \n",
    "# drop the column 'Loan Status' using drop()\n",
    "# 'axis = 1' drops the specified column\n",
    "df_feature = df.drop('income', axis = 1)"
   ]
  },
  {
   "cell_type": "code",
   "execution_count": 26,
   "id": "48a05631",
   "metadata": {
    "scrolled": true
   },
   "outputs": [
    {
     "data": {
      "text/plain": [
       "Less than 50K $    64392\n",
       "More than 50K $    39205\n",
       "Name: income, dtype: int64"
      ]
     },
     "execution_count": 26,
     "metadata": {},
     "output_type": "execute_result"
    }
   ],
   "source": [
    "df_target.value_counts()"
   ]
  },
  {
   "cell_type": "code",
   "execution_count": 27,
   "id": "d693761f",
   "metadata": {
    "scrolled": true
   },
   "outputs": [
    {
     "data": {
      "text/plain": [
       "Less than 50K $    64392\n",
       "More than 50K $    39205\n",
       "Name: income, dtype: int64"
      ]
     },
     "execution_count": 27,
     "metadata": {},
     "output_type": "execute_result"
    }
   ],
   "source": [
    "df['income'].value_counts()"
   ]
  },
  {
   "cell_type": "code",
   "execution_count": 28,
   "id": "4affd4fc",
   "metadata": {},
   "outputs": [
    {
     "data": {
      "text/plain": [
       "array(['More than 50K $', 'Less than 50K $'], dtype=object)"
      ]
     },
     "execution_count": 28,
     "metadata": {},
     "output_type": "execute_result"
    }
   ],
   "source": [
    "df_target.unique()"
   ]
  },
  {
   "cell_type": "code",
   "execution_count": 29,
   "id": "ffd6a3ab",
   "metadata": {},
   "outputs": [],
   "source": [
    "for i in range(len(df_target)):\n",
    "    if df_target[i] == 'More than 50K $':\n",
    "        df_target[i] = 1\n",
    "    else:\n",
    "        df_target[i] = 0 "
   ]
  },
  {
   "cell_type": "code",
   "execution_count": 30,
   "id": "bf37756f",
   "metadata": {},
   "outputs": [],
   "source": [
    "df_target = df_target.astype(int)"
   ]
  },
  {
   "cell_type": "code",
   "execution_count": 31,
   "id": "087732bc",
   "metadata": {},
   "outputs": [
    {
     "data": {
      "text/plain": [
       "0    64392\n",
       "1    39205\n",
       "Name: income, dtype: int64"
      ]
     },
     "execution_count": 31,
     "metadata": {},
     "output_type": "execute_result"
    }
   ],
   "source": [
    "df_target.value_counts()"
   ]
  },
  {
   "cell_type": "markdown",
   "id": "551e17ff",
   "metadata": {},
   "source": [
    "## Distribution of dependent variable."
   ]
  },
  {
   "cell_type": "code",
   "execution_count": 32,
   "id": "bcefbe09",
   "metadata": {},
   "outputs": [
    {
     "data": {
      "image/png": "[encoded data removed]",
      "text/plain": [
       "<Figure size 432x288 with 1 Axes>"
      ]
     },
     "metadata": {
      "needs_background": "light"
     },
     "output_type": "display_data"
    }
   ],
   "source": [
    "# get counts of 0's and 1's in the 'Loan Status' variable\n",
    "df_target.value_counts()\n",
    "\n",
    "# plot the countplot of the variable 'Loan Status'\n",
    "sns.countplot(x = df_target)\n",
    "\n",
    "# use below code to print the values in the graph\n",
    "# 'x' and 'y' gives position of the text\n",
    "# 's' is the text \n",
    "plt.text(x = -0.05, y = df_target.value_counts()[0] + 1, s = str(round((df_target.value_counts()[0])*100/len(df_target),2)) + '%')\n",
    "plt.text(x = 0.95, y = df_target.value_counts()[1] +1, s = str(round((df_target.value_counts()[1])*100/len(df_target),2)) + '%')\n",
    "\n",
    "# add plot and axes labels\n",
    "# set text size using 'fontsize'\n",
    "plt.title('Count Plot for Target Variable', fontsize = 15)\n",
    "plt.xlabel('Target Variable', fontsize = 15)\n",
    "plt.ylabel('Count', fontsize = 15)\n",
    "\n",
    "# to show the plot\n",
    "plt.show()"
   ]
  },
  {
   "cell_type": "code",
   "execution_count": 37,
   "id": "205bf6a1",
   "metadata": {},
   "outputs": [
    {
     "data": {
      "text/plain": [
       "{'race': {' Black': -0.10572686015338534,\n",
       "  ' White': 0.016355419595286417,\n",
       "  'Rare': -0.05257627356429092},\n",
       " 'father_country': {' ?': 0.03222278099212678,\n",
       "  ' Mexico': -0.14806809516819808,\n",
       "  ' United-States': 0.004573537799424006,\n",
       "  'Rare': 0.022854337512885733},\n",
       " 'educ': {' 10th grade': -0.15756042579962315,\n",
       "  ' 11th grade': -0.23958129705394463,\n",
       "  ' 7th and 8th grade': -0.21104177054801665,\n",
       "  ' 9th grade': -0.23287423434689383,\n",
       "  ' Bachelors degree(BA AB BS)': 0.40706979770130997,\n",
       "  ' Children': -0.16117225912307384,\n",
       "  ' High school graduate': -0.056802658349594665,\n",
       "  ' Masters degree(MA MS MEng MEd MSW MBA)': 0.7021194546136535,\n",
       "  ' Some college but no degree': 0.020900846341579904,\n",
       "  'Rare': 0.10278658828316214},\n",
       " 'house_stat': {' Child 18+ never marr Not in a subfamily': -0.16123508469482217,\n",
       "  ' Child <18 never marr not in subfamily': -0.17030802741288448,\n",
       "  ' Householder': 0.2170723243446138,\n",
       "  ' Nonfamily householder': 0.08201749414222681,\n",
       "  ' Secondary individual': -0.06097031965652559,\n",
       "  ' Spouse of householder': -0.02262426565446261,\n",
       "  'Rare': -0.15724045302414513},\n",
       " 'major_ind_code': {' Construction': 0.047305613289354675,\n",
       "  ' Education': 0.11664189365068378,\n",
       "  ' Finance insurance and real estate': 0.35544313652197124,\n",
       "  ' Manufacturing-durable goods': 0.2737006461830842,\n",
       "  ' Manufacturing-nondurable goods': 0.10601076347310417,\n",
       "  ' Not in universe or children': -0.159826092531402,\n",
       "  ' Retail trade': 0.0032814535335386886,\n",
       "  'Rare': 0.1896436621439898},\n",
       " 'labour_union': {'no': -0.0016225676139294363, 'yes': 0.014686324917690095},\n",
       " 'self_country': {' Mexico': -0.18591210699068678,\n",
       "  ' United-States': 0.002770939687440218,\n",
       "  'Rare': 0.034909298690393574},\n",
       " 'mother_country': {' ?': -0.02523789462549791,\n",
       "  ' Mexico': -0.17075677110508627,\n",
       "  ' United-States': 0.009100994943531136,\n",
       "  'Rare': 0.015247099674924883},\n",
       " 'house_summary': {' Householder': 0.17763844937596468,\n",
       "  'Child_Above18': -0.15087234227408802,\n",
       "  'Child_U18_Unmarried': -0.1705262545743029,\n",
       "  'Non_Relative': -0.0706782054216136,\n",
       "  'Rare': -0.360916734314696,\n",
       "  'Relative': -0.1756953456960808,\n",
       "  'Spouse': -0.02209679311476022},\n",
       " 'gender': {'F': -0.10288303403146212, 'M': 0.10833499763582194},\n",
       " 'hisp_origin': {'All_Other': 0.018078294478966667,\n",
       "  'Mex_Amer': -0.08333713504615471,\n",
       "  'Mexican_Mexicano': -0.19296704738509093,\n",
       "  'Rare': -0.08291857861342576},\n",
       " 'marriage_status': {' Divorced': 0.06438830869317524,\n",
       "  ' Widowed': -0.11250049498404574,\n",
       "  'Married_civilian_Sp_Pr': 0.13900684021108953,\n",
       "  'Rare': -0.04659235813331894,\n",
       "  'Unmarried': -0.13269296571412473},\n",
       " 'income_filled': {' No': 0.002365846466516013,\n",
       "  ' Yes': -0.015502083815548363,\n",
       "  'no': 0.003776302142390765},\n",
       " 'citizenship': {'FB': -0.10489628698450594,\n",
       "  'NB_US': 0.00278686275820129,\n",
       "  'Rare': 0.10230334860325431},\n",
       " 'fed_liability': {' Head of household': -0.020860602505930203,\n",
       "  ' Nonfiler': -0.17631483224893232,\n",
       "  ' Single': 0.0010113463924342491,\n",
       "  'Joint_both_Above65': -0.06677288882608703,\n",
       "  'Joint_both_under65': 0.19195065257178237,\n",
       "  'Rare': 0.11428171180814346},\n",
       " 'full_partime_job': {' Full-time schedules': 0.20755030699216173,\n",
       "  ' Not in labor force': -0.1872373482448274,\n",
       "  'Children/Armed_Forces': -0.03243880497605204,\n",
       "  'Rare': 0.03733712992134975}}"
      ]
     },
     "execution_count": 37,
     "metadata": {},
     "output_type": "execute_result"
    }
   ],
   "source": [
    "from feature_engine.encoding import WoEEncoder, RareLabelEncoder\n",
    "from sklearn.model_selection import train_test_split\n",
    "X_train, X_test, y_train, y_test = train_test_split(df_feature, df_target, train_size=0.7, test_size=0.3, random_state=100)\n",
    "\n",
    "# set up a rare label encoder\n",
    "rare_encoder = RareLabelEncoder(tol=0.03, n_categories=2, variables=list(X_cat.columns))\n",
    "\n",
    "# fit and transform data\n",
    "X_train = rare_encoder.fit_transform(X_train)   # scaling 1st, followed by transformation\n",
    "#X_test = rare_encoder.transform(X_test)\n",
    "\n",
    "woe_encoder = WoEEncoder(variables=list(X_cat.columns))\n",
    "# fit the encoder\n",
    "woe_encoder.fit(X_train, y_train)\n",
    "\n",
    "# transform\n",
    "X_train = woe_encoder.transform(X_train)\n",
    "#X_test = woe_encoder.transform(X_test)\n",
    "\n",
    "woe_encoder.encoder_dict_"
   ]
  },
  {
   "cell_type": "code",
   "execution_count": 55,
   "id": "564d5d7a",
   "metadata": {},
   "outputs": [
    {
     "data": {
      "text/plain": [
       "(103597, 28)"
      ]
     },
     "execution_count": 55,
     "metadata": {},
     "output_type": "execute_result"
    }
   ],
   "source": [
    "df.shape"
   ]
  },
  {
   "cell_type": "code",
   "execution_count": 56,
   "id": "cadd1a4f",
   "metadata": {},
   "outputs": [],
   "source": [
    "from sklearn.preprocessing import OrdinalEncoder\n",
    "oe=OrdinalEncoder()\n",
    "cat=df.select_dtypes(include='object').columns\n",
    "df[cat]=oe.fit_transform(df[cat])"
   ]
  },
  {
   "cell_type": "code",
   "execution_count": 58,
   "id": "97b1fc99",
   "metadata": {},
   "outputs": [
    {
     "data": {
      "text/html": [
       "<div>\n",
       "<style scoped>\n",
       "    .dataframe tbody tr th:only-of-type {\n",
       "        vertical-align: middle;\n",
       "    }\n",
       "\n",
       "    .dataframe tbody tr th {\n",
       "        vertical-align: top;\n",
       "    }\n",
       "\n",
       "    .dataframe thead th {\n",
       "        text-align: right;\n",
       "    }\n",
       "</style>\n",
       "<table border=\"1\" class=\"dataframe\">\n",
       "  <thead>\n",
       "    <tr style=\"text-align: right;\">\n",
       "      <th></th>\n",
       "      <th>ID</th>\n",
       "      <th>year_of_poll</th>\n",
       "      <th>own_self_emp</th>\n",
       "      <th>veteran benefits</th>\n",
       "      <th>race</th>\n",
       "      <th>father_country</th>\n",
       "      <th>educ</th>\n",
       "      <th>house_stat</th>\n",
       "      <th>major_ind_code</th>\n",
       "      <th>labour_union</th>\n",
       "      <th>self_country</th>\n",
       "      <th>age</th>\n",
       "      <th>mother_country</th>\n",
       "      <th>house_summary</th>\n",
       "      <th>gender</th>\n",
       "      <th>hisp_origin</th>\n",
       "      <th>gains</th>\n",
       "      <th>dividends</th>\n",
       "      <th>marriage_status</th>\n",
       "      <th>losses</th>\n",
       "      <th>employer_of</th>\n",
       "      <th>income_filled</th>\n",
       "      <th>weeks_worked</th>\n",
       "      <th>hourly_wage</th>\n",
       "      <th>citizenship</th>\n",
       "      <th>fed_liability</th>\n",
       "      <th>full_partime_job</th>\n",
       "    </tr>\n",
       "  </thead>\n",
       "  <tbody>\n",
       "    <tr>\n",
       "      <th>0</th>\n",
       "      <td>0</td>\n",
       "      <td>2004</td>\n",
       "      <td>0</td>\n",
       "      <td>2</td>\n",
       "      <td>2.000000</td>\n",
       "      <td>40.000000</td>\n",
       "      <td>7.000000</td>\n",
       "      <td>16.000000</td>\n",
       "      <td>2.000000</td>\n",
       "      <td>0.000000</td>\n",
       "      <td>40.000000</td>\n",
       "      <td>42</td>\n",
       "      <td>40.000000</td>\n",
       "      <td>0.000000</td>\n",
       "      <td>1.000000</td>\n",
       "      <td>4.000000</td>\n",
       "      <td>0.000000</td>\n",
       "      <td>0.000000</td>\n",
       "      <td>5.000000</td>\n",
       "      <td>0.000000</td>\n",
       "      <td>1</td>\n",
       "      <td>0.000000</td>\n",
       "      <td>47</td>\n",
       "      <td>0.000000</td>\n",
       "      <td>3.000000</td>\n",
       "      <td>4.000000</td>\n",
       "      <td>7.000000</td>\n",
       "    </tr>\n",
       "    <tr>\n",
       "      <th>1</th>\n",
       "      <td>1</td>\n",
       "      <td>2005</td>\n",
       "      <td>0</td>\n",
       "      <td>0</td>\n",
       "      <td>2.000000</td>\n",
       "      <td>24.000000</td>\n",
       "      <td>10.000000</td>\n",
       "      <td>8.000000</td>\n",
       "      <td>14.000000</td>\n",
       "      <td>0.000000</td>\n",
       "      <td>40.000000</td>\n",
       "      <td>10</td>\n",
       "      <td>40.000000</td>\n",
       "      <td>3.000000</td>\n",
       "      <td>1.000000</td>\n",
       "      <td>6.000000</td>\n",
       "      <td>0.000000</td>\n",
       "      <td>0.000000</td>\n",
       "      <td>6.000000</td>\n",
       "      <td>0.000000</td>\n",
       "      <td>0</td>\n",
       "      <td>0.000000</td>\n",
       "      <td>0</td>\n",
       "      <td>0.000000</td>\n",
       "      <td>3.000000</td>\n",
       "      <td>1.000000</td>\n",
       "      <td>7.000000</td>\n",
       "    </tr>\n",
       "    <tr>\n",
       "      <th>2</th>\n",
       "      <td>2</td>\n",
       "      <td>2004</td>\n",
       "      <td>0</td>\n",
       "      <td>2</td>\n",
       "      <td>2.000000</td>\n",
       "      <td>40.000000</td>\n",
       "      <td>16.000000</td>\n",
       "      <td>28.000000</td>\n",
       "      <td>10.000000</td>\n",
       "      <td>0.000000</td>\n",
       "      <td>40.000000</td>\n",
       "      <td>46</td>\n",
       "      <td>40.000000</td>\n",
       "      <td>4.000000</td>\n",
       "      <td>1.000000</td>\n",
       "      <td>4.000000</td>\n",
       "      <td>0.000000</td>\n",
       "      <td>0.000000</td>\n",
       "      <td>0.000000</td>\n",
       "      <td>0.000000</td>\n",
       "      <td>6</td>\n",
       "      <td>1.000000</td>\n",
       "      <td>47</td>\n",
       "      <td>0.000000</td>\n",
       "      <td>3.000000</td>\n",
       "      <td>2.000000</td>\n",
       "      <td>7.000000</td>\n",
       "    </tr>\n",
       "    <tr>\n",
       "      <th>3</th>\n",
       "      <td>3</td>\n",
       "      <td>2004</td>\n",
       "      <td>0</td>\n",
       "      <td>2</td>\n",
       "      <td>3.000000</td>\n",
       "      <td>40.000000</td>\n",
       "      <td>12.000000</td>\n",
       "      <td>16.000000</td>\n",
       "      <td>23.000000</td>\n",
       "      <td>0.000000</td>\n",
       "      <td>40.000000</td>\n",
       "      <td>35</td>\n",
       "      <td>40.000000</td>\n",
       "      <td>0.000000</td>\n",
       "      <td>1.000000</td>\n",
       "      <td>4.000000</td>\n",
       "      <td>0.000000</td>\n",
       "      <td>0.000000</td>\n",
       "      <td>5.000000</td>\n",
       "      <td>0.000000</td>\n",
       "      <td>2</td>\n",
       "      <td>2.000000</td>\n",
       "      <td>47</td>\n",
       "      <td>0.000000</td>\n",
       "      <td>3.000000</td>\n",
       "      <td>4.000000</td>\n",
       "      <td>7.000000</td>\n",
       "    </tr>\n",
       "    <tr>\n",
       "      <th>4</th>\n",
       "      <td>4</td>\n",
       "      <td>2004</td>\n",
       "      <td>0</td>\n",
       "      <td>2</td>\n",
       "      <td>2.000000</td>\n",
       "      <td>40.000000</td>\n",
       "      <td>12.000000</td>\n",
       "      <td>16.000000</td>\n",
       "      <td>23.000000</td>\n",
       "      <td>0.000000</td>\n",
       "      <td>40.000000</td>\n",
       "      <td>61</td>\n",
       "      <td>40.000000</td>\n",
       "      <td>0.000000</td>\n",
       "      <td>0.000000</td>\n",
       "      <td>4.000000</td>\n",
       "      <td>0.000000</td>\n",
       "      <td>0.000000</td>\n",
       "      <td>0.000000</td>\n",
       "      <td>0.000000</td>\n",
       "      <td>3</td>\n",
       "      <td>2.000000</td>\n",
       "      <td>47</td>\n",
       "      <td>0.000000</td>\n",
       "      <td>3.000000</td>\n",
       "      <td>2.000000</td>\n",
       "      <td>7.000000</td>\n",
       "    </tr>\n",
       "  </tbody>\n",
       "</table>\n",
       "</div>"
      ],
      "text/plain": [
       "   ID  year_of_poll  own_self_emp  veteran benefits     race  father_country  \\\n",
       "0   0          2004             0                 2 2.000000       40.000000   \n",
       "1   1          2005             0                 0 2.000000       24.000000   \n",
       "2   2          2004             0                 2 2.000000       40.000000   \n",
       "3   3          2004             0                 2 3.000000       40.000000   \n",
       "4   4          2004             0                 2 2.000000       40.000000   \n",
       "\n",
       "       educ  house_stat  major_ind_code  labour_union  self_country  age  \\\n",
       "0  7.000000   16.000000        2.000000      0.000000     40.000000   42   \n",
       "1 10.000000    8.000000       14.000000      0.000000     40.000000   10   \n",
       "2 16.000000   28.000000       10.000000      0.000000     40.000000   46   \n",
       "3 12.000000   16.000000       23.000000      0.000000     40.000000   35   \n",
       "4 12.000000   16.000000       23.000000      0.000000     40.000000   61   \n",
       "\n",
       "   mother_country  house_summary   gender  hisp_origin    gains  dividends  \\\n",
       "0       40.000000       0.000000 1.000000     4.000000 0.000000   0.000000   \n",
       "1       40.000000       3.000000 1.000000     6.000000 0.000000   0.000000   \n",
       "2       40.000000       4.000000 1.000000     4.000000 0.000000   0.000000   \n",
       "3       40.000000       0.000000 1.000000     4.000000 0.000000   0.000000   \n",
       "4       40.000000       0.000000 0.000000     4.000000 0.000000   0.000000   \n",
       "\n",
       "   marriage_status   losses  employer_of  income_filled  weeks_worked  \\\n",
       "0         5.000000 0.000000            1       0.000000            47   \n",
       "1         6.000000 0.000000            0       0.000000             0   \n",
       "2         0.000000 0.000000            6       1.000000            47   \n",
       "3         5.000000 0.000000            2       2.000000            47   \n",
       "4         0.000000 0.000000            3       2.000000            47   \n",
       "\n",
       "   hourly_wage  citizenship  fed_liability  full_partime_job  \n",
       "0     0.000000     3.000000       4.000000          7.000000  \n",
       "1     0.000000     3.000000       1.000000          7.000000  \n",
       "2     0.000000     3.000000       2.000000          7.000000  \n",
       "3     0.000000     3.000000       4.000000          7.000000  \n",
       "4     0.000000     3.000000       2.000000          7.000000  "
      ]
     },
     "execution_count": 58,
     "metadata": {},
     "output_type": "execute_result"
    }
   ],
   "source": [
    "X_train=df.drop('income',axis=1)\n",
    "\n",
    "X_train.head()"
   ]
  },
  {
   "cell_type": "code",
   "execution_count": 59,
   "id": "141fdefc",
   "metadata": {},
   "outputs": [
    {
     "name": "stdout",
     "output_type": "stream",
     "text": [
      "Training Accuracy\n",
      "0.6300761605065783\n",
      "[[58583  5809]\n",
      " [32514  6691]]\n",
      "              precision    recall  f1-score   support\n",
      "\n",
      "         0.0       0.64      0.91      0.75     64392\n",
      "         1.0       0.54      0.17      0.26     39205\n",
      "\n",
      "    accuracy                           0.63    103597\n",
      "   macro avg       0.59      0.54      0.51    103597\n",
      "weighted avg       0.60      0.63      0.57    103597\n",
      "\n",
      "[1.         0.74011732 0.14511604 0.06197399 0.08518235 0.05535714\n",
      " 0.10357143 0.07959184 0.02704082 0.00637755]\n",
      "Average Recall\n",
      "0.23043284720161977\n"
     ]
    }
   ],
   "source": [
    "import warnings\n",
    "warnings.filterwarnings('ignore')\n",
    "import numpy as np\n",
    "from sklearn.model_selection import cross_val_score\n",
    "from sklearn.linear_model import LogisticRegression\n",
    "from sklearn.ensemble import GradientBoostingClassifier,RandomForestClassifier\n",
    "from sklearn.model_selection import train_test_split\n",
    "from sklearn.metrics import confusion_matrix,classification_report\n",
    "\n",
    "X_train=df.drop('income',axis=1)\n",
    "y_train=df[['income']]\n",
    "lr = LogisticRegression()\n",
    "\n",
    "lr.fit(X_train,y_train)\n",
    "print(\"Training Accuracy\")\n",
    "print(lr.score(X_train,y_train))\n",
    "\n",
    "predicted = lr.predict(X_train)\n",
    "print(confusion_matrix(y_train,predicted))\n",
    "print(classification_report(y_train,predicted))\n",
    "\n",
    "scoresdt = cross_val_score(lr,X_train,y_train,cv=10,scoring='recall')\n",
    "print(scoresdt)\n",
    "print(\"Average Recall\")\n",
    "print(np.mean(scoresdt))"
   ]
  },
  {
   "cell_type": "code",
   "execution_count": 60,
   "id": "bf3639c0",
   "metadata": {},
   "outputs": [
    {
     "name": "stdout",
     "output_type": "stream",
     "text": [
      "Automatically created module for IPython interactive environment\n"
     ]
    },
    {
     "data": {
      "image/png": "[encoded data removed]",
      "text/plain": [
       "<Figure size 432x288 with 1 Axes>"
      ]
     },
     "metadata": {
      "needs_background": "light"
     },
     "output_type": "display_data"
    }
   ],
   "source": [
    "print(__doc__)\n",
    "from sklearn.tree import DecisionTreeClassifier\n",
    "import matplotlib.pyplot as plt\n",
    "import numpy as np\n",
    "from sklearn.model_selection import validation_curve\n",
    "param_range = np.arange(1,50)\n",
    "train_scores, test_scores = validation_curve(\n",
    "    DecisionTreeClassifier(), X_train, y_train, param_name=\"max_depth\",scoring='recall',param_range=param_range,n_jobs=1)\n",
    "train_scores_mean = np.mean(train_scores, axis=1)\n",
    "train_scores_std = np.std(train_scores, axis=1)\n",
    "test_scores_mean = np.mean(test_scores, axis=1)\n",
    "test_scores_std = np.std(test_scores, axis=1)\n",
    "\n",
    "plt.title(\"Validation Curve with Decision Tree Classifier\")\n",
    "plt.xlabel(\"Depth\")\n",
    "plt.ylabel(\"Recall\")\n",
    "plt.ylim(0.0, 1.1)\n",
    "lw = 2\n",
    "plt.semilogx(param_range, train_scores_mean, label=\"Training score\",\n",
    "             color=\"darkorange\", lw=lw)\n",
    "plt.fill_between(param_range, train_scores_mean - train_scores_std,\n",
    "                 train_scores_mean + train_scores_std, alpha=0.2,\n",
    "                 color=\"darkorange\", lw=lw)\n",
    "plt.semilogx(param_range, test_scores_mean, label=\"Cross-validation score\",\n",
    "             color=\"navy\", lw=lw)\n",
    "plt.fill_between(param_range, test_scores_mean - test_scores_std,\n",
    "                 test_scores_mean + test_scores_std, alpha=0.2,\n",
    "                 color=\"navy\", lw=lw)\n",
    "plt.legend(loc=\"best\")\n",
    "plt.show()"
   ]
  },
  {
   "cell_type": "code",
   "execution_count": 61,
   "id": "ab25abcb",
   "metadata": {},
   "outputs": [
    {
     "name": "stdout",
     "output_type": "stream",
     "text": [
      "Training Accuracy\n",
      "1.0\n",
      "Testing Accuracy\n",
      "0.9261583011583011\n",
      "[[19342    22]\n",
      " [ 2273  9443]]\n",
      "              precision    recall  f1-score   support\n",
      "\n",
      "           0       0.89      1.00      0.94     19364\n",
      "           1       1.00      0.81      0.89     11716\n",
      "\n",
      "    accuracy                           0.93     31080\n",
      "   macro avg       0.95      0.90      0.92     31080\n",
      "weighted avg       0.93      0.93      0.92     31080\n",
      "\n",
      "[1.         0.64651875 1.         0.993114   0.49018108 0.99362245\n",
      " 0.33571429 0.20331633 0.42908163 1.        ]\n",
      "Average Recall\n",
      "0.7091548516881887\n"
     ]
    }
   ],
   "source": [
    "import warnings\n",
    "warnings.filterwarnings('ignore')\n",
    "import numpy as np\n",
    "from sklearn.model_selection import cross_val_score\n",
    "from sklearn.linear_model import LogisticRegression\n",
    "from sklearn.ensemble import GradientBoostingClassifier,RandomForestClassifier\n",
    "from sklearn.model_selection import train_test_split\n",
    "from sklearn.metrics import confusion_matrix,classification_report\n",
    "lr = RandomForestClassifier(n_estimators=500,class_weight='balanced')\n",
    "lr.fit(X_train,y_train)\n",
    "print(\"Training Accuracy\")\n",
    "print(lr.score(X_train,y_train))\n",
    "print(\"Testing Accuracy\")\n",
    "print(lr.score(X_test,y_test))\n",
    "predicted = lr.predict(X_test)\n",
    "print(confusion_matrix(y_test,predicted))\n",
    "print(classification_report(y_test,predicted))\n",
    "\n",
    "scoresdt = cross_val_score(lr,X_train,y_train,cv=10,scoring='recall')\n",
    "print(scoresdt)\n",
    "print(\"Average Recall\")\n",
    "print(np.mean(scoresdt))"
   ]
  },
  {
   "cell_type": "code",
   "execution_count": 63,
   "id": "97bceab2",
   "metadata": {},
   "outputs": [
    {
     "data": {
      "text/plain": [
       "(42000, 2)"
      ]
     },
     "execution_count": 63,
     "metadata": {},
     "output_type": "execute_result"
    }
   ],
   "source": [
    "df_sub=pd.read_csv('Sample_Submission.csv')\n",
    "df_sub.shape"
   ]
  },
  {
   "cell_type": "code",
   "execution_count": null,
   "id": "75b4dd80",
   "metadata": {},
   "outputs": [],
   "source": [
    "X_test=pd.read_csv('test.csv')\n",
    "X_test.head(2)"
   ]
  },
  {
   "cell_type": "code",
   "execution_count": 79,
   "id": "a355b28a",
   "metadata": {},
   "outputs": [
    {
     "data": {
      "text/plain": [
       "(42000, 33)"
      ]
     },
     "execution_count": 79,
     "metadata": {},
     "output_type": "execute_result"
    }
   ],
   "source": [
    "X_test.shape"
   ]
  },
  {
   "cell_type": "code",
   "execution_count": 80,
   "id": "d6035ba2",
   "metadata": {},
   "outputs": [
    {
     "data": {
      "text/plain": [
       "ID                        0\n",
       "year_of_poll              0\n",
       "own_self_emp              0\n",
       "veteran benefits          0\n",
       "currently_enrolled    12613\n",
       "race                      0\n",
       "father_country            0\n",
       "educ                      0\n",
       "house_stat                3\n",
       "major_ind_code            0\n",
       "labour_union          14337\n",
       "self_country              0\n",
       "major_occ_code        21068\n",
       "age                     596\n",
       "mother_country            0\n",
       "house_summary             0\n",
       "gender                    0\n",
       "hisp_origin               0\n",
       "gains                     0\n",
       "dividends                 0\n",
       "marriage_status           0\n",
       "losses                    0\n",
       "employer_of               0\n",
       "house_1yr_ago         21398\n",
       "income_filled         13008\n",
       "weeks_worked              0\n",
       "under18               30340\n",
       "hourly_wage               0\n",
       "unemp_reason          40715\n",
       "citizenship               0\n",
       "woker_type            20977\n",
       "fed_liability             0\n",
       "full_partime_job        568\n",
       "dtype: int64"
      ]
     },
     "execution_count": 80,
     "metadata": {},
     "output_type": "execute_result"
    }
   ],
   "source": [
    "X_test.isnull().sum()"
   ]
  },
  {
   "cell_type": "code",
   "execution_count": 81,
   "id": "dbd257bb",
   "metadata": {},
   "outputs": [],
   "source": [
    "X_test.drop(['woker_type','major_occ_code','house_1yr_ago','under18','unemp_reason'],axis=1,inplace=True)"
   ]
  },
  {
   "cell_type": "code",
   "execution_count": 82,
   "id": "202eeffa",
   "metadata": {},
   "outputs": [],
   "source": [
    "X_test.drop('currently_enrolled',axis=1,inplace=True)"
   ]
  },
  {
   "cell_type": "code",
   "execution_count": 83,
   "id": "26cd06dc",
   "metadata": {},
   "outputs": [
    {
     "data": {
      "text/plain": [
       "array([nan, 'no', 'yes'], dtype=object)"
      ]
     },
     "execution_count": 83,
     "metadata": {},
     "output_type": "execute_result"
    }
   ],
   "source": [
    "X_test['labour_union'].unique()"
   ]
  },
  {
   "cell_type": "code",
   "execution_count": 84,
   "id": "958d30e8",
   "metadata": {},
   "outputs": [
    {
     "data": {
      "text/plain": [
       "0    no\n",
       "dtype: object"
      ]
     },
     "execution_count": 84,
     "metadata": {},
     "output_type": "execute_result"
    }
   ],
   "source": [
    "X_test['labour_union'].mode()"
   ]
  },
  {
   "cell_type": "code",
   "execution_count": 86,
   "id": "04324bbe",
   "metadata": {},
   "outputs": [],
   "source": [
    "X_test['labour_union']=X_test['labour_union'].replace(to_replace=np.nan,value='no')"
   ]
  },
  {
   "cell_type": "code",
   "execution_count": 93,
   "id": "446ea15f",
   "metadata": {},
   "outputs": [
    {
     "data": {
      "text/plain": [
       "ID                      0\n",
       "year_of_poll            0\n",
       "own_self_emp            0\n",
       "veteran benefits        0\n",
       "race                    0\n",
       "father_country          0\n",
       "educ                    0\n",
       "house_stat              3\n",
       "major_ind_code          0\n",
       "labour_union            0\n",
       "self_country            0\n",
       "age                   596\n",
       "mother_country          0\n",
       "house_summary           0\n",
       "gender                  0\n",
       "hisp_origin             0\n",
       "gains                   0\n",
       "dividends               0\n",
       "marriage_status         0\n",
       "losses                  0\n",
       "employer_of             0\n",
       "income_filled       13008\n",
       "weeks_worked            0\n",
       "hourly_wage             0\n",
       "citizenship             0\n",
       "fed_liability           0\n",
       "full_partime_job      568\n",
       "dtype: int64"
      ]
     },
     "execution_count": 93,
     "metadata": {},
     "output_type": "execute_result"
    }
   ],
   "source": [
    "X_test.isnull().sum()"
   ]
  },
  {
   "cell_type": "code",
   "execution_count": 92,
   "id": "49315dae",
   "metadata": {},
   "outputs": [
    {
     "data": {
      "text/plain": [
       "array([' No', nan, ' Yes'], dtype=object)"
      ]
     },
     "execution_count": 92,
     "metadata": {},
     "output_type": "execute_result"
    }
   ],
   "source": [
    "X_test['income_filled'].unique()"
   ]
  },
  {
   "cell_type": "code",
   "execution_count": 94,
   "id": "6ea70578",
   "metadata": {},
   "outputs": [
    {
     "data": {
      "text/plain": [
       "0     No\n",
       "dtype: object"
      ]
     },
     "execution_count": 94,
     "metadata": {},
     "output_type": "execute_result"
    }
   ],
   "source": [
    "X_test['income_filled'].mode()"
   ]
  },
  {
   "cell_type": "code",
   "execution_count": 100,
   "id": "e80fc445",
   "metadata": {},
   "outputs": [],
   "source": [
    "X_test['income_filled']=X_test['income_filled'].replace(to_replace=np.nan,value='no')"
   ]
  },
  {
   "cell_type": "code",
   "execution_count": 101,
   "id": "34751e17",
   "metadata": {},
   "outputs": [
    {
     "data": {
      "text/plain": [
       "(42000, 27)"
      ]
     },
     "execution_count": 101,
     "metadata": {},
     "output_type": "execute_result"
    }
   ],
   "source": [
    "X_test.shape"
   ]
  },
  {
   "cell_type": "code",
   "execution_count": 106,
   "id": "4d98de34",
   "metadata": {},
   "outputs": [
    {
     "data": {
      "text/plain": [
       "ID                    0\n",
       "year_of_poll          0\n",
       "own_self_emp          0\n",
       "veteran benefits      0\n",
       "race                  0\n",
       "father_country        0\n",
       "educ                  0\n",
       "house_stat            3\n",
       "major_ind_code        0\n",
       "labour_union          0\n",
       "self_country          0\n",
       "age                 596\n",
       "mother_country        0\n",
       "house_summary         0\n",
       "gender                0\n",
       "hisp_origin           0\n",
       "gains                 0\n",
       "dividends             0\n",
       "marriage_status       0\n",
       "losses                0\n",
       "employer_of           0\n",
       "income_filled         0\n",
       "weeks_worked          0\n",
       "hourly_wage           0\n",
       "citizenship           0\n",
       "fed_liability         0\n",
       "full_partime_job      0\n",
       "dtype: int64"
      ]
     },
     "execution_count": 106,
     "metadata": {},
     "output_type": "execute_result"
    }
   ],
   "source": [
    "X_test.isnull().sum()"
   ]
  },
  {
   "cell_type": "code",
   "execution_count": 103,
   "id": "082f4d66",
   "metadata": {},
   "outputs": [
    {
     "data": {
      "text/plain": [
       "array([' Full-time schedules', 'Children/Armed_Forces',\n",
       "       ' Not in labor force', ' Unemployed full-time',\n",
       "       ' PT for econ reasons usually PT', nan,\n",
       "       ' PT for non-econ reasons usually FT',\n",
       "       ' PT for econ reasons usually FT', ' Unemployed part- time'],\n",
       "      dtype=object)"
      ]
     },
     "execution_count": 103,
     "metadata": {},
     "output_type": "execute_result"
    }
   ],
   "source": [
    "X_test['full_partime_job'].unique()"
   ]
  },
  {
   "cell_type": "code",
   "execution_count": 104,
   "id": "8dfe4d32",
   "metadata": {},
   "outputs": [
    {
     "data": {
      "text/plain": [
       "0    Children/Armed_Forces\n",
       "dtype: object"
      ]
     },
     "execution_count": 104,
     "metadata": {},
     "output_type": "execute_result"
    }
   ],
   "source": [
    "X_test['full_partime_job'].mode()"
   ]
  },
  {
   "cell_type": "code",
   "execution_count": 105,
   "id": "b676c2c5",
   "metadata": {},
   "outputs": [],
   "source": [
    "X_test['full_partime_job']=X_test['full_partime_job'].replace(to_replace=np.nan,value='no')"
   ]
  },
  {
   "cell_type": "code",
   "execution_count": 107,
   "id": "4bc8fa7c",
   "metadata": {},
   "outputs": [
    {
     "data": {
      "text/plain": [
       "0   36.000000\n",
       "dtype: float64"
      ]
     },
     "execution_count": 107,
     "metadata": {},
     "output_type": "execute_result"
    }
   ],
   "source": [
    "X_test['age'].mode()"
   ]
  },
  {
   "cell_type": "code",
   "execution_count": 108,
   "id": "0b49e94a",
   "metadata": {},
   "outputs": [],
   "source": [
    "X_test['age']=X_test['age'].replace(to_replace=np.nan,value=36)"
   ]
  },
  {
   "cell_type": "code",
   "execution_count": 114,
   "id": "a3680aae",
   "metadata": {},
   "outputs": [
    {
     "data": {
      "text/plain": [
       "0   16.000000\n",
       "dtype: float64"
      ]
     },
     "execution_count": 114,
     "metadata": {},
     "output_type": "execute_result"
    }
   ],
   "source": [
    "X_test['house_stat'].mode()"
   ]
  },
  {
   "cell_type": "code",
   "execution_count": 115,
   "id": "7912ae1f",
   "metadata": {},
   "outputs": [],
   "source": [
    "X_test['house_stat']=X_test['house_stat'].replace(to_replace=np.nan,value=16)"
   ]
  },
  {
   "cell_type": "code",
   "execution_count": 116,
   "id": "a328e83c",
   "metadata": {},
   "outputs": [
    {
     "data": {
      "text/plain": [
       "ID                  0\n",
       "year_of_poll        0\n",
       "own_self_emp        0\n",
       "veteran benefits    0\n",
       "race                0\n",
       "father_country      0\n",
       "educ                0\n",
       "house_stat          0\n",
       "major_ind_code      0\n",
       "labour_union        0\n",
       "self_country        0\n",
       "age                 0\n",
       "mother_country      0\n",
       "house_summary       0\n",
       "gender              0\n",
       "hisp_origin         0\n",
       "gains               0\n",
       "dividends           0\n",
       "marriage_status     0\n",
       "losses              0\n",
       "employer_of         0\n",
       "income_filled       0\n",
       "weeks_worked        0\n",
       "hourly_wage         0\n",
       "citizenship         0\n",
       "fed_liability       0\n",
       "full_partime_job    0\n",
       "dtype: int64"
      ]
     },
     "execution_count": 116,
     "metadata": {},
     "output_type": "execute_result"
    }
   ],
   "source": [
    "X_test.isnull().sum()"
   ]
  },
  {
   "cell_type": "code",
   "execution_count": 117,
   "id": "c099471a",
   "metadata": {},
   "outputs": [],
   "source": [
    "X_test.reset_index(inplace=True, drop=True)"
   ]
  },
  {
   "cell_type": "code",
   "execution_count": 118,
   "id": "06d8b46e",
   "metadata": {},
   "outputs": [
    {
     "data": {
      "text/html": [
       "<div>\n",
       "<style scoped>\n",
       "    .dataframe tbody tr th:only-of-type {\n",
       "        vertical-align: middle;\n",
       "    }\n",
       "\n",
       "    .dataframe tbody tr th {\n",
       "        vertical-align: top;\n",
       "    }\n",
       "\n",
       "    .dataframe thead th {\n",
       "        text-align: right;\n",
       "    }\n",
       "</style>\n",
       "<table border=\"1\" class=\"dataframe\">\n",
       "  <thead>\n",
       "    <tr style=\"text-align: right;\">\n",
       "      <th></th>\n",
       "      <th>ID</th>\n",
       "      <th>year_of_poll</th>\n",
       "      <th>own_self_emp</th>\n",
       "      <th>veteran benefits</th>\n",
       "      <th>race</th>\n",
       "      <th>father_country</th>\n",
       "      <th>educ</th>\n",
       "      <th>house_stat</th>\n",
       "      <th>major_ind_code</th>\n",
       "      <th>labour_union</th>\n",
       "      <th>self_country</th>\n",
       "      <th>age</th>\n",
       "      <th>mother_country</th>\n",
       "      <th>house_summary</th>\n",
       "      <th>gender</th>\n",
       "      <th>hisp_origin</th>\n",
       "      <th>gains</th>\n",
       "      <th>dividends</th>\n",
       "      <th>marriage_status</th>\n",
       "      <th>losses</th>\n",
       "      <th>employer_of</th>\n",
       "      <th>income_filled</th>\n",
       "      <th>weeks_worked</th>\n",
       "      <th>hourly_wage</th>\n",
       "      <th>citizenship</th>\n",
       "      <th>fed_liability</th>\n",
       "      <th>full_partime_job</th>\n",
       "    </tr>\n",
       "  </thead>\n",
       "  <tbody>\n",
       "    <tr>\n",
       "      <th>0</th>\n",
       "      <td>105000</td>\n",
       "      <td>2005</td>\n",
       "      <td>0</td>\n",
       "      <td>2</td>\n",
       "      <td>2.000000</td>\n",
       "      <td>40.000000</td>\n",
       "      <td>16.000000</td>\n",
       "      <td>16.000000</td>\n",
       "      <td>11.000000</td>\n",
       "      <td>0.000000</td>\n",
       "      <td>40.000000</td>\n",
       "      <td>32.000000</td>\n",
       "      <td>40.000000</td>\n",
       "      <td>0.000000</td>\n",
       "      <td>1.000000</td>\n",
       "      <td>4.000000</td>\n",
       "      <td>0.000000</td>\n",
       "      <td>0.000000</td>\n",
       "      <td>5.000000</td>\n",
       "      <td>0.000000</td>\n",
       "      <td>6</td>\n",
       "      <td>0.000000</td>\n",
       "      <td>47</td>\n",
       "      <td>0.000000</td>\n",
       "      <td>3.000000</td>\n",
       "      <td>4.000000</td>\n",
       "      <td>0.000000</td>\n",
       "    </tr>\n",
       "    <tr>\n",
       "      <th>1</th>\n",
       "      <td>105001</td>\n",
       "      <td>2004</td>\n",
       "      <td>0</td>\n",
       "      <td>2</td>\n",
       "      <td>2.000000</td>\n",
       "      <td>40.000000</td>\n",
       "      <td>9.000000</td>\n",
       "      <td>18.000000</td>\n",
       "      <td>12.000000</td>\n",
       "      <td>0.000000</td>\n",
       "      <td>40.000000</td>\n",
       "      <td>51.000000</td>\n",
       "      <td>40.000000</td>\n",
       "      <td>0.000000</td>\n",
       "      <td>0.000000</td>\n",
       "      <td>4.000000</td>\n",
       "      <td>0.000000</td>\n",
       "      <td>120.000000</td>\n",
       "      <td>6.000000</td>\n",
       "      <td>0.000000</td>\n",
       "      <td>6</td>\n",
       "      <td>0.000000</td>\n",
       "      <td>47</td>\n",
       "      <td>0.000000</td>\n",
       "      <td>3.000000</td>\n",
       "      <td>2.000000</td>\n",
       "      <td>7.000000</td>\n",
       "    </tr>\n",
       "    <tr>\n",
       "      <th>2</th>\n",
       "      <td>105002</td>\n",
       "      <td>2004</td>\n",
       "      <td>0</td>\n",
       "      <td>2</td>\n",
       "      <td>2.000000</td>\n",
       "      <td>40.000000</td>\n",
       "      <td>5.000000</td>\n",
       "      <td>17.000000</td>\n",
       "      <td>14.000000</td>\n",
       "      <td>0.000000</td>\n",
       "      <td>40.000000</td>\n",
       "      <td>70.000000</td>\n",
       "      <td>40.000000</td>\n",
       "      <td>7.000000</td>\n",
       "      <td>0.000000</td>\n",
       "      <td>4.000000</td>\n",
       "      <td>0.000000</td>\n",
       "      <td>0.000000</td>\n",
       "      <td>2.000000</td>\n",
       "      <td>0.000000</td>\n",
       "      <td>0</td>\n",
       "      <td>1.000000</td>\n",
       "      <td>0</td>\n",
       "      <td>0.000000</td>\n",
       "      <td>3.000000</td>\n",
       "      <td>1.000000</td>\n",
       "      <td>7.000000</td>\n",
       "    </tr>\n",
       "    <tr>\n",
       "      <th>3</th>\n",
       "      <td>105003</td>\n",
       "      <td>2004</td>\n",
       "      <td>2</td>\n",
       "      <td>2</td>\n",
       "      <td>2.000000</td>\n",
       "      <td>40.000000</td>\n",
       "      <td>12.000000</td>\n",
       "      <td>28.000000</td>\n",
       "      <td>11.000000</td>\n",
       "      <td>0.000000</td>\n",
       "      <td>40.000000</td>\n",
       "      <td>25.000000</td>\n",
       "      <td>40.000000</td>\n",
       "      <td>4.000000</td>\n",
       "      <td>1.000000</td>\n",
       "      <td>4.000000</td>\n",
       "      <td>0.000000</td>\n",
       "      <td>0.000000</td>\n",
       "      <td>6.000000</td>\n",
       "      <td>0.000000</td>\n",
       "      <td>2</td>\n",
       "      <td>2.000000</td>\n",
       "      <td>47</td>\n",
       "      <td>0.000000</td>\n",
       "      <td>3.000000</td>\n",
       "      <td>2.000000</td>\n",
       "      <td>7.000000</td>\n",
       "    </tr>\n",
       "    <tr>\n",
       "      <th>4</th>\n",
       "      <td>105004</td>\n",
       "      <td>2004</td>\n",
       "      <td>0</td>\n",
       "      <td>2</td>\n",
       "      <td>2.000000</td>\n",
       "      <td>20.000000</td>\n",
       "      <td>11.000000</td>\n",
       "      <td>16.000000</td>\n",
       "      <td>18.000000</td>\n",
       "      <td>1.000000</td>\n",
       "      <td>20.000000</td>\n",
       "      <td>65.000000</td>\n",
       "      <td>20.000000</td>\n",
       "      <td>0.000000</td>\n",
       "      <td>0.000000</td>\n",
       "      <td>4.000000</td>\n",
       "      <td>0.000000</td>\n",
       "      <td>0.000000</td>\n",
       "      <td>2.000000</td>\n",
       "      <td>0.000000</td>\n",
       "      <td>6</td>\n",
       "      <td>2.000000</td>\n",
       "      <td>47</td>\n",
       "      <td>0.000000</td>\n",
       "      <td>1.000000</td>\n",
       "      <td>2.000000</td>\n",
       "      <td>7.000000</td>\n",
       "    </tr>\n",
       "  </tbody>\n",
       "</table>\n",
       "</div>"
      ],
      "text/plain": [
       "       ID  year_of_poll  own_self_emp  veteran benefits     race  \\\n",
       "0  105000          2005             0                 2 2.000000   \n",
       "1  105001          2004             0                 2 2.000000   \n",
       "2  105002          2004             0                 2 2.000000   \n",
       "3  105003          2004             2                 2 2.000000   \n",
       "4  105004          2004             0                 2 2.000000   \n",
       "\n",
       "   father_country      educ  house_stat  major_ind_code  labour_union  \\\n",
       "0       40.000000 16.000000   16.000000       11.000000      0.000000   \n",
       "1       40.000000  9.000000   18.000000       12.000000      0.000000   \n",
       "2       40.000000  5.000000   17.000000       14.000000      0.000000   \n",
       "3       40.000000 12.000000   28.000000       11.000000      0.000000   \n",
       "4       20.000000 11.000000   16.000000       18.000000      1.000000   \n",
       "\n",
       "   self_country       age  mother_country  house_summary   gender  \\\n",
       "0     40.000000 32.000000       40.000000       0.000000 1.000000   \n",
       "1     40.000000 51.000000       40.000000       0.000000 0.000000   \n",
       "2     40.000000 70.000000       40.000000       7.000000 0.000000   \n",
       "3     40.000000 25.000000       40.000000       4.000000 1.000000   \n",
       "4     20.000000 65.000000       20.000000       0.000000 0.000000   \n",
       "\n",
       "   hisp_origin    gains  dividends  marriage_status   losses  employer_of  \\\n",
       "0     4.000000 0.000000   0.000000         5.000000 0.000000            6   \n",
       "1     4.000000 0.000000 120.000000         6.000000 0.000000            6   \n",
       "2     4.000000 0.000000   0.000000         2.000000 0.000000            0   \n",
       "3     4.000000 0.000000   0.000000         6.000000 0.000000            2   \n",
       "4     4.000000 0.000000   0.000000         2.000000 0.000000            6   \n",
       "\n",
       "   income_filled  weeks_worked  hourly_wage  citizenship  fed_liability  \\\n",
       "0       0.000000            47     0.000000     3.000000       4.000000   \n",
       "1       0.000000            47     0.000000     3.000000       2.000000   \n",
       "2       1.000000             0     0.000000     3.000000       1.000000   \n",
       "3       2.000000            47     0.000000     3.000000       2.000000   \n",
       "4       2.000000            47     0.000000     1.000000       2.000000   \n",
       "\n",
       "   full_partime_job  \n",
       "0          0.000000  \n",
       "1          7.000000  \n",
       "2          7.000000  \n",
       "3          7.000000  \n",
       "4          7.000000  "
      ]
     },
     "execution_count": 118,
     "metadata": {},
     "output_type": "execute_result"
    }
   ],
   "source": [
    "from sklearn.preprocessing import OrdinalEncoder\n",
    "oe=OrdinalEncoder()\n",
    "cat=X_test.select_dtypes(include='object').columns\n",
    "X_test[cat]=oe.fit_transform(X_test[cat].astype(str))"
   ]
  },
  {
   "cell_type": "code",
   "execution_count": 119,
   "id": "c0cb0aff",
   "metadata": {},
   "outputs": [
    {
     "data": {
      "text/plain": [
       "array([1., 1., 1., ..., 1., 1., 1.])"
      ]
     },
     "execution_count": 119,
     "metadata": {},
     "output_type": "execute_result"
    }
   ],
   "source": [
    "y_pred=lr.predict(X_test)\n",
    "y_pred"
   ]
  },
  {
   "cell_type": "code",
   "execution_count": 121,
   "id": "9c109367",
   "metadata": {},
   "outputs": [],
   "source": [
    "X_test['income']=y_pred"
   ]
  },
  {
   "cell_type": "code",
   "execution_count": 122,
   "id": "86505aa5",
   "metadata": {},
   "outputs": [
    {
     "data": {
      "text/html": [
       "<div>\n",
       "<style scoped>\n",
       "    .dataframe tbody tr th:only-of-type {\n",
       "        vertical-align: middle;\n",
       "    }\n",
       "\n",
       "    .dataframe tbody tr th {\n",
       "        vertical-align: top;\n",
       "    }\n",
       "\n",
       "    .dataframe thead th {\n",
       "        text-align: right;\n",
       "    }\n",
       "</style>\n",
       "<table border=\"1\" class=\"dataframe\">\n",
       "  <thead>\n",
       "    <tr style=\"text-align: right;\">\n",
       "      <th></th>\n",
       "      <th>ID</th>\n",
       "      <th>year_of_poll</th>\n",
       "      <th>own_self_emp</th>\n",
       "      <th>veteran benefits</th>\n",
       "      <th>race</th>\n",
       "      <th>father_country</th>\n",
       "      <th>educ</th>\n",
       "      <th>house_stat</th>\n",
       "      <th>major_ind_code</th>\n",
       "      <th>labour_union</th>\n",
       "      <th>self_country</th>\n",
       "      <th>age</th>\n",
       "      <th>mother_country</th>\n",
       "      <th>house_summary</th>\n",
       "      <th>gender</th>\n",
       "      <th>hisp_origin</th>\n",
       "      <th>gains</th>\n",
       "      <th>dividends</th>\n",
       "      <th>marriage_status</th>\n",
       "      <th>losses</th>\n",
       "      <th>employer_of</th>\n",
       "      <th>income_filled</th>\n",
       "      <th>weeks_worked</th>\n",
       "      <th>hourly_wage</th>\n",
       "      <th>citizenship</th>\n",
       "      <th>fed_liability</th>\n",
       "      <th>full_partime_job</th>\n",
       "      <th>income</th>\n",
       "    </tr>\n",
       "  </thead>\n",
       "  <tbody>\n",
       "    <tr>\n",
       "      <th>0</th>\n",
       "      <td>105000</td>\n",
       "      <td>2005</td>\n",
       "      <td>0</td>\n",
       "      <td>2</td>\n",
       "      <td>2.000000</td>\n",
       "      <td>40.000000</td>\n",
       "      <td>16.000000</td>\n",
       "      <td>16.000000</td>\n",
       "      <td>11.000000</td>\n",
       "      <td>0.000000</td>\n",
       "      <td>40.000000</td>\n",
       "      <td>32.000000</td>\n",
       "      <td>40.000000</td>\n",
       "      <td>0.000000</td>\n",
       "      <td>1.000000</td>\n",
       "      <td>4.000000</td>\n",
       "      <td>0.000000</td>\n",
       "      <td>0.000000</td>\n",
       "      <td>5.000000</td>\n",
       "      <td>0.000000</td>\n",
       "      <td>6</td>\n",
       "      <td>0.000000</td>\n",
       "      <td>47</td>\n",
       "      <td>0.000000</td>\n",
       "      <td>3.000000</td>\n",
       "      <td>4.000000</td>\n",
       "      <td>0.000000</td>\n",
       "      <td>1.000000</td>\n",
       "    </tr>\n",
       "    <tr>\n",
       "      <th>1</th>\n",
       "      <td>105001</td>\n",
       "      <td>2004</td>\n",
       "      <td>0</td>\n",
       "      <td>2</td>\n",
       "      <td>2.000000</td>\n",
       "      <td>40.000000</td>\n",
       "      <td>9.000000</td>\n",
       "      <td>18.000000</td>\n",
       "      <td>12.000000</td>\n",
       "      <td>0.000000</td>\n",
       "      <td>40.000000</td>\n",
       "      <td>51.000000</td>\n",
       "      <td>40.000000</td>\n",
       "      <td>0.000000</td>\n",
       "      <td>0.000000</td>\n",
       "      <td>4.000000</td>\n",
       "      <td>0.000000</td>\n",
       "      <td>120.000000</td>\n",
       "      <td>6.000000</td>\n",
       "      <td>0.000000</td>\n",
       "      <td>6</td>\n",
       "      <td>0.000000</td>\n",
       "      <td>47</td>\n",
       "      <td>0.000000</td>\n",
       "      <td>3.000000</td>\n",
       "      <td>2.000000</td>\n",
       "      <td>7.000000</td>\n",
       "      <td>1.000000</td>\n",
       "    </tr>\n",
       "    <tr>\n",
       "      <th>2</th>\n",
       "      <td>105002</td>\n",
       "      <td>2004</td>\n",
       "      <td>0</td>\n",
       "      <td>2</td>\n",
       "      <td>2.000000</td>\n",
       "      <td>40.000000</td>\n",
       "      <td>5.000000</td>\n",
       "      <td>17.000000</td>\n",
       "      <td>14.000000</td>\n",
       "      <td>0.000000</td>\n",
       "      <td>40.000000</td>\n",
       "      <td>70.000000</td>\n",
       "      <td>40.000000</td>\n",
       "      <td>7.000000</td>\n",
       "      <td>0.000000</td>\n",
       "      <td>4.000000</td>\n",
       "      <td>0.000000</td>\n",
       "      <td>0.000000</td>\n",
       "      <td>2.000000</td>\n",
       "      <td>0.000000</td>\n",
       "      <td>0</td>\n",
       "      <td>1.000000</td>\n",
       "      <td>0</td>\n",
       "      <td>0.000000</td>\n",
       "      <td>3.000000</td>\n",
       "      <td>1.000000</td>\n",
       "      <td>7.000000</td>\n",
       "      <td>1.000000</td>\n",
       "    </tr>\n",
       "    <tr>\n",
       "      <th>3</th>\n",
       "      <td>105003</td>\n",
       "      <td>2004</td>\n",
       "      <td>2</td>\n",
       "      <td>2</td>\n",
       "      <td>2.000000</td>\n",
       "      <td>40.000000</td>\n",
       "      <td>12.000000</td>\n",
       "      <td>28.000000</td>\n",
       "      <td>11.000000</td>\n",
       "      <td>0.000000</td>\n",
       "      <td>40.000000</td>\n",
       "      <td>25.000000</td>\n",
       "      <td>40.000000</td>\n",
       "      <td>4.000000</td>\n",
       "      <td>1.000000</td>\n",
       "      <td>4.000000</td>\n",
       "      <td>0.000000</td>\n",
       "      <td>0.000000</td>\n",
       "      <td>6.000000</td>\n",
       "      <td>0.000000</td>\n",
       "      <td>2</td>\n",
       "      <td>2.000000</td>\n",
       "      <td>47</td>\n",
       "      <td>0.000000</td>\n",
       "      <td>3.000000</td>\n",
       "      <td>2.000000</td>\n",
       "      <td>7.000000</td>\n",
       "      <td>1.000000</td>\n",
       "    </tr>\n",
       "    <tr>\n",
       "      <th>4</th>\n",
       "      <td>105004</td>\n",
       "      <td>2004</td>\n",
       "      <td>0</td>\n",
       "      <td>2</td>\n",
       "      <td>2.000000</td>\n",
       "      <td>20.000000</td>\n",
       "      <td>11.000000</td>\n",
       "      <td>16.000000</td>\n",
       "      <td>18.000000</td>\n",
       "      <td>1.000000</td>\n",
       "      <td>20.000000</td>\n",
       "      <td>65.000000</td>\n",
       "      <td>20.000000</td>\n",
       "      <td>0.000000</td>\n",
       "      <td>0.000000</td>\n",
       "      <td>4.000000</td>\n",
       "      <td>0.000000</td>\n",
       "      <td>0.000000</td>\n",
       "      <td>2.000000</td>\n",
       "      <td>0.000000</td>\n",
       "      <td>6</td>\n",
       "      <td>2.000000</td>\n",
       "      <td>47</td>\n",
       "      <td>0.000000</td>\n",
       "      <td>1.000000</td>\n",
       "      <td>2.000000</td>\n",
       "      <td>7.000000</td>\n",
       "      <td>1.000000</td>\n",
       "    </tr>\n",
       "  </tbody>\n",
       "</table>\n",
       "</div>"
      ],
      "text/plain": [
       "       ID  year_of_poll  own_self_emp  veteran benefits     race  \\\n",
       "0  105000          2005             0                 2 2.000000   \n",
       "1  105001          2004             0                 2 2.000000   \n",
       "2  105002          2004             0                 2 2.000000   \n",
       "3  105003          2004             2                 2 2.000000   \n",
       "4  105004          2004             0                 2 2.000000   \n",
       "\n",
       "   father_country      educ  house_stat  major_ind_code  labour_union  \\\n",
       "0       40.000000 16.000000   16.000000       11.000000      0.000000   \n",
       "1       40.000000  9.000000   18.000000       12.000000      0.000000   \n",
       "2       40.000000  5.000000   17.000000       14.000000      0.000000   \n",
       "3       40.000000 12.000000   28.000000       11.000000      0.000000   \n",
       "4       20.000000 11.000000   16.000000       18.000000      1.000000   \n",
       "\n",
       "   self_country       age  mother_country  house_summary   gender  \\\n",
       "0     40.000000 32.000000       40.000000       0.000000 1.000000   \n",
       "1     40.000000 51.000000       40.000000       0.000000 0.000000   \n",
       "2     40.000000 70.000000       40.000000       7.000000 0.000000   \n",
       "3     40.000000 25.000000       40.000000       4.000000 1.000000   \n",
       "4     20.000000 65.000000       20.000000       0.000000 0.000000   \n",
       "\n",
       "   hisp_origin    gains  dividends  marriage_status   losses  employer_of  \\\n",
       "0     4.000000 0.000000   0.000000         5.000000 0.000000            6   \n",
       "1     4.000000 0.000000 120.000000         6.000000 0.000000            6   \n",
       "2     4.000000 0.000000   0.000000         2.000000 0.000000            0   \n",
       "3     4.000000 0.000000   0.000000         6.000000 0.000000            2   \n",
       "4     4.000000 0.000000   0.000000         2.000000 0.000000            6   \n",
       "\n",
       "   income_filled  weeks_worked  hourly_wage  citizenship  fed_liability  \\\n",
       "0       0.000000            47     0.000000     3.000000       4.000000   \n",
       "1       0.000000            47     0.000000     3.000000       2.000000   \n",
       "2       1.000000             0     0.000000     3.000000       1.000000   \n",
       "3       2.000000            47     0.000000     3.000000       2.000000   \n",
       "4       2.000000            47     0.000000     1.000000       2.000000   \n",
       "\n",
       "   full_partime_job   income  \n",
       "0          0.000000 1.000000  \n",
       "1          7.000000 1.000000  \n",
       "2          7.000000 1.000000  \n",
       "3          7.000000 1.000000  \n",
       "4          7.000000 1.000000  "
      ]
     },
     "execution_count": 122,
     "metadata": {},
     "output_type": "execute_result"
    }
   ],
   "source": [
    "X_test.head()"
   ]
  },
  {
   "cell_type": "code",
   "execution_count": 124,
   "id": "8386e10f",
   "metadata": {},
   "outputs": [
    {
     "data": {
      "text/plain": [
       "(42000, 28)"
      ]
     },
     "execution_count": 124,
     "metadata": {},
     "output_type": "execute_result"
    }
   ],
   "source": [
    "X_test.shape"
   ]
  },
  {
   "cell_type": "code",
   "execution_count": 126,
   "id": "89151a94",
   "metadata": {
    "scrolled": true
   },
   "outputs": [
    {
     "data": {
      "text/plain": [
       "Index(['ID', 'year_of_poll', 'own_self_emp', 'veteran benefits', 'race',\n",
       "       'father_country', 'educ', 'house_stat', 'major_ind_code',\n",
       "       'labour_union', 'self_country', 'age', 'mother_country',\n",
       "       'house_summary', 'gender', 'hisp_origin', 'gains', 'dividends',\n",
       "       'marriage_status', 'losses', 'employer_of', 'income_filled',\n",
       "       'weeks_worked', 'hourly_wage', 'citizenship', 'fed_liability',\n",
       "       'full_partime_job', 'income'],\n",
       "      dtype='object')"
      ]
     },
     "execution_count": 126,
     "metadata": {},
     "output_type": "execute_result"
    }
   ],
   "source": [
    "X_test.columns"
   ]
  },
  {
   "cell_type": "code",
   "execution_count": 128,
   "id": "0a37f2e2",
   "metadata": {},
   "outputs": [],
   "source": [
    "X_test2 = X_test.drop(columns=['year_of_poll', 'own_self_emp', 'veteran benefits', 'race',\n",
    "       'father_country', 'educ', 'house_stat', 'major_ind_code',\n",
    "       'labour_union', 'self_country', 'age', 'mother_country',\n",
    "       'house_summary', 'gender', 'hisp_origin', 'gains', 'dividends',\n",
    "       'marriage_status', 'losses', 'employer_of', 'income_filled',\n",
    "       'weeks_worked', 'hourly_wage', 'citizenship', 'fed_liability',\n",
    "       'full_partime_job',],axis=1)"
   ]
  },
  {
   "cell_type": "code",
   "execution_count": 129,
   "id": "612b1fa1",
   "metadata": {},
   "outputs": [],
   "source": [
    "X_test2.to_csv('mySubmission.csv',index=False)"
   ]
  },
  {
   "cell_type": "code",
   "execution_count": null,
   "id": "4f954d3c",
   "metadata": {},
   "outputs": [],
   "source": []
  },
  {
   "cell_type": "code",
   "execution_count": null,
   "id": "abe1d948",
   "metadata": {},
   "outputs": [],
   "source": []
  },
  {
   "cell_type": "code",
   "execution_count": null,
   "id": "b5aa0515",
   "metadata": {},
   "outputs": [],
   "source": []
  }
 ],
 "metadata": {
  "kernelspec": {
   "display_name": "Python 3 (ipykernel)",
   "language": "python",
   "name": "python3"
  },
  "language_info": {
   "codemirror_mode": {
    "name": "ipython",
    "version": 3
   },
   "file_extension": ".py",
   "mimetype": "text/x-python",
   "name": "python",
   "nbconvert_exporter": "python",
   "pygments_lexer": "ipython3",
   "version": "3.9.7"
  }
 },
 "nbformat": 4,
 "nbformat_minor": 5
}
