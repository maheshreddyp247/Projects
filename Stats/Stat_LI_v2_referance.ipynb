{
 "cells": [
  {
   "cell_type": "code",
   "execution_count": 1,
   "metadata": {},
   "outputs": [],
   "source": [
    "import warnings\n",
    "warnings.filterwarnings(\"ignore\")"
   ]
  },
  {
   "cell_type": "code",
   "execution_count": 2,
   "metadata": {
    "colab": {
     "base_uri": "https://localhost:8080/",
     "height": 343
    },
    "colab_type": "code",
    "id": "6ErMJRC2yXrT",
    "outputId": "b5f5b752-2851-467c-da94-cea2a6ce0c57"
   },
   "outputs": [
    {
     "data": {
      "text/html": [
       "<div>\n",
       "<style scoped>\n",
       "    .dataframe tbody tr th:only-of-type {\n",
       "        vertical-align: middle;\n",
       "    }\n",
       "\n",
       "    .dataframe tbody tr th {\n",
       "        vertical-align: top;\n",
       "    }\n",
       "\n",
       "    .dataframe thead th {\n",
       "        text-align: right;\n",
       "    }\n",
       "</style>\n",
       "<table border=\"1\" class=\"dataframe\">\n",
       "  <thead>\n",
       "    <tr style=\"text-align: right;\">\n",
       "      <th></th>\n",
       "      <th>Patient_id</th>\n",
       "      <th>Oxy_level</th>\n",
       "      <th>Pulse_rate</th>\n",
       "      <th>Blood_Sugar</th>\n",
       "      <th>Age</th>\n",
       "      <th>Sex</th>\n",
       "      <th>Old_1</th>\n",
       "      <th>Old_2</th>\n",
       "      <th>Old_3</th>\n",
       "      <th>New_1</th>\n",
       "      <th>New_2</th>\n",
       "      <th>New_3</th>\n",
       "    </tr>\n",
       "  </thead>\n",
       "  <tbody>\n",
       "    <tr>\n",
       "      <th>0</th>\n",
       "      <td>COVPAT0001</td>\n",
       "      <td>97.109182</td>\n",
       "      <td>109.156925</td>\n",
       "      <td>83</td>\n",
       "      <td>5</td>\n",
       "      <td>M</td>\n",
       "      <td>30.08</td>\n",
       "      <td>23.14</td>\n",
       "      <td>33.58</td>\n",
       "      <td>30.51</td>\n",
       "      <td>28.75</td>\n",
       "      <td>22.47</td>\n",
       "    </tr>\n",
       "    <tr>\n",
       "      <th>1</th>\n",
       "      <td>COVPAT0002</td>\n",
       "      <td>98.039265</td>\n",
       "      <td>109.481086</td>\n",
       "      <td>119</td>\n",
       "      <td>3</td>\n",
       "      <td>M</td>\n",
       "      <td>18.38</td>\n",
       "      <td>28.86</td>\n",
       "      <td>38.32</td>\n",
       "      <td>21.66</td>\n",
       "      <td>28.53</td>\n",
       "      <td>16.05</td>\n",
       "    </tr>\n",
       "    <tr>\n",
       "      <th>2</th>\n",
       "      <td>COVPAT0003</td>\n",
       "      <td>97.904030</td>\n",
       "      <td>110.428601</td>\n",
       "      <td>80</td>\n",
       "      <td>8</td>\n",
       "      <td>F</td>\n",
       "      <td>30.27</td>\n",
       "      <td>24.32</td>\n",
       "      <td>42.16</td>\n",
       "      <td>21.99</td>\n",
       "      <td>31.26</td>\n",
       "      <td>20.15</td>\n",
       "    </tr>\n",
       "    <tr>\n",
       "      <th>3</th>\n",
       "      <td>COVPAT0004</td>\n",
       "      <td>99.212383</td>\n",
       "      <td>110.048527</td>\n",
       "      <td>95</td>\n",
       "      <td>5</td>\n",
       "      <td>M</td>\n",
       "      <td>28.81</td>\n",
       "      <td>21.73</td>\n",
       "      <td>21.46</td>\n",
       "      <td>24.66</td>\n",
       "      <td>26.34</td>\n",
       "      <td>15.90</td>\n",
       "    </tr>\n",
       "    <tr>\n",
       "      <th>4</th>\n",
       "      <td>COVPAT0005</td>\n",
       "      <td>99.235056</td>\n",
       "      <td>110.180046</td>\n",
       "      <td>82</td>\n",
       "      <td>6</td>\n",
       "      <td>M</td>\n",
       "      <td>25.06</td>\n",
       "      <td>32.65</td>\n",
       "      <td>27.54</td>\n",
       "      <td>25.84</td>\n",
       "      <td>20.59</td>\n",
       "      <td>21.65</td>\n",
       "    </tr>\n",
       "  </tbody>\n",
       "</table>\n",
       "</div>"
      ],
      "text/plain": [
       "   Patient_id  Oxy_level  Pulse_rate  Blood_Sugar  Age Sex  Old_1  Old_2  \\\n",
       "0  COVPAT0001  97.109182  109.156925           83    5   M  30.08  23.14   \n",
       "1  COVPAT0002  98.039265  109.481086          119    3   M  18.38  28.86   \n",
       "2  COVPAT0003  97.904030  110.428601           80    8   F  30.27  24.32   \n",
       "3  COVPAT0004  99.212383  110.048527           95    5   M  28.81  21.73   \n",
       "4  COVPAT0005  99.235056  110.180046           82    6   M  25.06  32.65   \n",
       "\n",
       "   Old_3  New_1  New_2  New_3  \n",
       "0  33.58  30.51  28.75  22.47  \n",
       "1  38.32  21.66  28.53  16.05  \n",
       "2  42.16  21.99  31.26  20.15  \n",
       "3  21.46  24.66  26.34  15.90  \n",
       "4  27.54  25.84  20.59  21.65  "
      ]
     },
     "execution_count": 2,
     "metadata": {},
     "output_type": "execute_result"
    }
   ],
   "source": [
    "import pandas as pd\n",
    "data = pd.read_csv(\"LI_STAT_NOV.csv\")\n",
    "data.head()"
   ]
  },
  {
   "cell_type": "code",
   "execution_count": 3,
   "metadata": {
    "colab": {
     "base_uri": "https://localhost:8080/",
     "height": 34
    },
    "colab_type": "code",
    "id": "pMm9jnbhy0LR",
    "outputId": "ed814e7f-ef93-4fdf-c5a3-a6286a5cba2d"
   },
   "outputs": [
    {
     "data": {
      "text/plain": [
       "(5000, 12)"
      ]
     },
     "execution_count": 3,
     "metadata": {},
     "output_type": "execute_result"
    }
   ],
   "source": [
    "data.shape"
   ]
  },
  {
   "cell_type": "code",
   "execution_count": 4,
   "metadata": {
    "colab": {
     "base_uri": "https://localhost:8080/",
     "height": 102
    },
    "colab_type": "code",
    "id": "EZVRJbaNzYHx",
    "outputId": "cbbf2c86-215c-40e4-e43e-5986c953b359"
   },
   "outputs": [
    {
     "data": {
      "text/plain": [
       "Index(['Patient_id', 'Oxy_level', 'Pulse_rate', 'Blood_Sugar', 'Age', 'Sex',\n",
       "       'Old_1', 'Old_2', 'Old_3', 'New_1', 'New_2', 'New_3'],\n",
       "      dtype='object')"
      ]
     },
     "execution_count": 4,
     "metadata": {},
     "output_type": "execute_result"
    }
   ],
   "source": [
    "data.columns"
   ]
  },
  {
   "cell_type": "markdown",
   "metadata": {
    "colab_type": "text",
    "id": "ZLFdvIf2Bi2a"
   },
   "source": [
    "# 1.\tTest for the Assumptions about the patients’ health record."
   ]
  },
  {
   "cell_type": "markdown",
   "metadata": {
    "colab_type": "text",
    "id": "rXHukXFpD0f8"
   },
   "source": [
    "## Part 1.a : Oxy_level for the patients for should be 99"
   ]
  },
  {
   "cell_type": "markdown",
   "metadata": {
    "colab_type": "text",
    "id": "99p5PAiyC7Pn"
   },
   "source": [
    "#### Step 1 : We are going to conduct the test of Oxy_level for a population, i.e. if the Population mean of Oxy_level is 99.\n",
    "\n",
    "Considering the problem statement on mind the Hypothesis would be ;\n",
    "\n",
    "*   Null Hypothesis : Population Oxy_level Mean = 99\n",
    "\n",
    "*   Alternative Hypothesis : Population Oxy_level Mean ≠ 99"
   ]
  },
  {
   "cell_type": "markdown",
   "metadata": {
    "colab_type": "text",
    "id": "2ZmGhKdhEkGj"
   },
   "source": [
    "#### Step 2 : By the type of the problem or the hypothesis,we can say a 'One Sample t-test' is appropriate for the situation.\n",
    "\n",
    "So before performing a 'One Sample t-test', we need to test the assumption of one sample t-test ,i.e. the population should follow normal distribution. "
   ]
  },
  {
   "cell_type": "markdown",
   "metadata": {
    "colab_type": "text",
    "id": "SO4Er62gF9xD"
   },
   "source": [
    "#### Testing whether the Oxy_level follow normal distribution or not\n",
    "\n",
    "(performing a shapiro test)"
   ]
  },
  {
   "cell_type": "markdown",
   "metadata": {
    "colab_type": "text",
    "id": "MtEHjed7GXOK"
   },
   "source": [
    "#### Hypothesis of shapiro test :\n",
    "\n",
    "*   Null Hypothesis : Population follow Normal Distribution\n",
    "*   Alternative Hypothesis:Population does not follow Normal Distribution\n"
   ]
  },
  {
   "cell_type": "code",
   "execution_count": 5,
   "metadata": {
    "colab": {
     "base_uri": "https://localhost:8080/",
     "height": 51
    },
    "colab_type": "code",
    "id": "yYfW4L85y6jL",
    "outputId": "a7959596-967e-48dc-e010-0f9063ddb908"
   },
   "outputs": [
    {
     "name": "stdout",
     "output_type": "stream",
     "text": [
      "Statistics=1.000, p=0.598\n",
      "Sample is from Gaussian Population (fail to reject H0)\n"
     ]
    }
   ],
   "source": [
    "from scipy.stats import shapiro\n",
    "from scipy import stats\n",
    "# normality test\n",
    "stat, p = shapiro(data['Oxy_level'])\n",
    "print('Statistics=%.3f, p=%.3f' % (stat, p))\n",
    "# interpret\n",
    "alpha = 0.05\n",
    "if p > alpha:\n",
    "\tprint('Sample is from Gaussian Population (fail to reject H0)')\n",
    "else:\n",
    "\tprint('Samples is not from Gaussian Population (reject H0)')"
   ]
  },
  {
   "cell_type": "markdown",
   "metadata": {
    "colab_type": "text",
    "id": "bs0P8UWwHDZ7"
   },
   "source": [
    "#### Conclussion : As the data follow Normal Distribution,now we are ready to perform a sample t-test."
   ]
  },
  {
   "cell_type": "code",
   "execution_count": 6,
   "metadata": {
    "colab": {
     "base_uri": "https://localhost:8080/",
     "height": 51
    },
    "colab_type": "code",
    "id": "v9pegim7zBbJ",
    "outputId": "4d26ed5b-b235-4e39-c97c-0dede63a0124"
   },
   "outputs": [
    {
     "name": "stdout",
     "output_type": "stream",
     "text": [
      "Ttest_1sampResult(statistic=-0.2010490370335417, pvalue=0.8406684101608832)\n",
      "The Population Oxy_level Mean is 99 (fail to reject H0)\n"
     ]
    }
   ],
   "source": [
    "print(stats.ttest_1samp(data['Oxy_level'], 99))\n",
    "p = stats.ttest_1samp(data['Oxy_level'], 99)[1]\n",
    "alpha = 0.05\n",
    "if p < alpha :\n",
    "  print('The Population Oxy_level Mean is not 99 (reject H0)')\n",
    "else:\n",
    "  print('The Population Oxy_level Mean is 99 (fail to reject H0)')"
   ]
  },
  {
   "cell_type": "markdown",
   "metadata": {
    "colab_type": "text",
    "id": "crWo0dbNHhLF"
   },
   "source": [
    "#### Conclusion :The data is from the population with Oxy_level mean as 99"
   ]
  },
  {
   "cell_type": "markdown",
   "metadata": {
    "colab_type": "text",
    "id": "rXHukXFpD0f8"
   },
   "source": [
    "## Part 1.b : Pulse_rate for the patients for should not be more than 100"
   ]
  },
  {
   "cell_type": "markdown",
   "metadata": {
    "colab_type": "text",
    "id": "99p5PAiyC7Pn"
   },
   "source": [
    "#### Step 1 : We are going to conduct the test of Pulse_rate for a population, i.e. if the Population mean of Pulse_rate is 100.\n",
    "\n",
    "Considering the problem statement on mind the Hypothesis would be ;\n",
    "\n",
    "*   Null Hypothesis : Population Pulse_rate Mean ≤ 100\n",
    "\n",
    "*   Alternative Hypothesis : Population Pulse_rate Mean > 100"
   ]
  },
  {
   "cell_type": "markdown",
   "metadata": {
    "colab_type": "text",
    "id": "2ZmGhKdhEkGj"
   },
   "source": [
    "#### Step 2 : By the type of the problem or the hypothesis,we can say a 'One Sample t-test' is appropriate for the situation.\n",
    "\n",
    "So before performing a 'One Sample t-test', we need to test the assumption of one sample t-test ,i.e. the population should follow normal distribution. "
   ]
  },
  {
   "cell_type": "markdown",
   "metadata": {
    "colab_type": "text",
    "id": "SO4Er62gF9xD"
   },
   "source": [
    "#### Testing whether the Pulse_rate follow normal distribution or not\n",
    "\n",
    "(performing a shapiro test)"
   ]
  },
  {
   "cell_type": "markdown",
   "metadata": {
    "colab_type": "text",
    "id": "MtEHjed7GXOK"
   },
   "source": [
    "#### Hypothesis of shapiro test :\n",
    "\n",
    "*   Null Hypothesis : Populaton follow Normal Distribution\n",
    "*   Alternative Hypothesis:Population does not follow Normal Distribution\n"
   ]
  },
  {
   "cell_type": "code",
   "execution_count": 7,
   "metadata": {
    "colab": {
     "base_uri": "https://localhost:8080/",
     "height": 51
    },
    "colab_type": "code",
    "id": "yYfW4L85y6jL",
    "outputId": "a7959596-967e-48dc-e010-0f9063ddb908"
   },
   "outputs": [
    {
     "name": "stdout",
     "output_type": "stream",
     "text": [
      "Statistics=1.000, p=0.892\n",
      "Sample is from Gaussian Population (fail to reject H0)\n"
     ]
    }
   ],
   "source": [
    "from scipy.stats import shapiro\n",
    "from scipy import stats\n",
    "# normality test\n",
    "stat, p = shapiro(data['Pulse_rate'])\n",
    "print('Statistics=%.3f, p=%.3f' % (stat, p))\n",
    "# interpret\n",
    "alpha = 0.05\n",
    "if p > alpha:\n",
    "\tprint('Sample is from Gaussian Population (fail to reject H0)')\n",
    "else:\n",
    "\tprint('Samples is not from Gaussian Population (reject H0)')"
   ]
  },
  {
   "cell_type": "markdown",
   "metadata": {
    "colab_type": "text",
    "id": "bs0P8UWwHDZ7"
   },
   "source": [
    "#### Conclusion : As the data follow Normal Distribution,now we are ready to perform a sample t-test."
   ]
  },
  {
   "cell_type": "code",
   "execution_count": 8,
   "metadata": {
    "colab": {
     "base_uri": "https://localhost:8080/",
     "height": 51
    },
    "colab_type": "code",
    "id": "v9pegim7zBbJ",
    "outputId": "4d26ed5b-b235-4e39-c97c-0dede63a0124"
   },
   "outputs": [
    {
     "name": "stdout",
     "output_type": "stream",
     "text": [
      "Ttest_1sampResult(statistic=706.2946125241093, pvalue=0.0)\n",
      "The Population Pulse_rate Mean is more than 100 (reject H0)\n"
     ]
    }
   ],
   "source": [
    "print(stats.ttest_1samp(data['Pulse_rate'], 100))\n",
    "p = stats.ttest_1samp(data['Pulse_rate'], 100)[1]\n",
    "alpha = 0.05\n",
    "if p/2 < alpha :\n",
    "  print('The Population Pulse_rate Mean is more than 100 (reject H0)')\n",
    "else:\n",
    "  print('The Population Pulse_rate Mean is not more than 100 (fail to reject H0)')"
   ]
  },
  {
   "cell_type": "markdown",
   "metadata": {
    "colab_type": "text",
    "id": "crWo0dbNHhLF"
   },
   "source": [
    "#### Conclussion :The data is from the population with Pulse_rate mean is more 100"
   ]
  },
  {
   "cell_type": "markdown",
   "metadata": {
    "colab_type": "text",
    "id": "rXHukXFpD0f8"
   },
   "source": [
    "## Part 1.c : Blood_Sugar for the patients for should be 150"
   ]
  },
  {
   "cell_type": "markdown",
   "metadata": {
    "colab_type": "text",
    "id": "99p5PAiyC7Pn"
   },
   "source": [
    "#### Step 1 : We are going to conduct the test of sugar level for a population, i.e. if the Population mean of Blood_Sugar level is 150.\n",
    "\n",
    "Considering the problem statement on mind the Hypothesis would be ;\n",
    "\n",
    "*   Null Hypothesis : Population Sugar Level Mean = 150\n",
    "\n",
    "*   Alternative Hypothesis : Population Sugar Level Mean ≠ 150\n",
    "\n"
   ]
  },
  {
   "cell_type": "markdown",
   "metadata": {
    "colab_type": "text",
    "id": "2ZmGhKdhEkGj"
   },
   "source": [
    "#### Step 2 : By the type of the problem or the hypothesis,we can say a 'One Sample t-test' is appropriate for the situation.\n",
    "\n",
    "So before performing a 'One Sample t-test', we need to test the assumption of one sample t-test ,i.e. the population should follow normal distribution. "
   ]
  },
  {
   "cell_type": "markdown",
   "metadata": {
    "colab_type": "text",
    "id": "SO4Er62gF9xD"
   },
   "source": [
    "#### Testing whether the Suagar level follow normal distribution or not\n",
    "\n",
    "(performing a shapiro test)"
   ]
  },
  {
   "cell_type": "markdown",
   "metadata": {
    "colab_type": "text",
    "id": "MtEHjed7GXOK"
   },
   "source": [
    "#### Hypothesis of shapiro test :\n",
    "\n",
    "*   Null Hypothesis : Populaton follow Normal Distribution\n",
    "*   Alternative Hypothesis:Population does not follow Normal Distribution\n"
   ]
  },
  {
   "cell_type": "code",
   "execution_count": 9,
   "metadata": {
    "colab": {
     "base_uri": "https://localhost:8080/",
     "height": 51
    },
    "colab_type": "code",
    "id": "yYfW4L85y6jL",
    "outputId": "a7959596-967e-48dc-e010-0f9063ddb908"
   },
   "outputs": [
    {
     "name": "stdout",
     "output_type": "stream",
     "text": [
      "Statistics=0.916, p=0.000\n",
      "Samples is not from Gaussian Population (reject H0)\n"
     ]
    }
   ],
   "source": [
    "from scipy.stats import shapiro\n",
    "from scipy import stats\n",
    "# normality test\n",
    "stat, p = shapiro(data['Blood_Sugar'])\n",
    "print('Statistics=%.3f, p=%.3f' % (stat, p))\n",
    "# interpret\n",
    "alpha = 0.05\n",
    "if p > alpha:\n",
    "\tprint('Sample is from Gaussian Population (fail to reject H0)')\n",
    "else:\n",
    "\tprint('Samples is not from Gaussian Population (reject H0)')"
   ]
  },
  {
   "cell_type": "markdown",
   "metadata": {
    "colab_type": "text",
    "id": "bs0P8UWwHDZ7"
   },
   "source": [
    "#### Conclusion : As the data does not follow Normal Distribution,we can not perform a sample t-test.In this case we might need to look into non-parametric test. Here we will be performing Wilcoxon sign rank test."
   ]
  },
  {
   "cell_type": "code",
   "execution_count": 10,
   "metadata": {},
   "outputs": [
    {
     "name": "stdout",
     "output_type": "stream",
     "text": [
      "Test statistic: 6105689.5\n",
      "p-value: 0.6485642832102604\n",
      "The Median Sugar Leve of Population is 150 (fail to reject H0)\n"
     ]
    }
   ],
   "source": [
    "# hypothesized median\n",
    "M_0 = 150\n",
    "\n",
    "# calculate the difference between sample percentages and M_0\n",
    "diff = data['Blood_Sugar'] - M_0\n",
    "\n",
    "# perform wilcoxon signed rank test\n",
    "# pass the differnces to the parameter, 'x'\n",
    "# pass the two-tailed condition to the parameter, 'alternative'\n",
    "test_stat, p_value = stats.wilcoxon(x = diff, alternative = 'two-sided')\n",
    "\n",
    "# print the test statistic and corresponding p-value\n",
    "print('Test statistic:', test_stat)\n",
    "print('p-value:', p_value)\n",
    "alpha = 0.05\n",
    "if p_value < alpha :\n",
    "  print('The Median Sugar Leve of Population is not 150 (reject H0)')\n",
    "else:\n",
    "  print('The Median Sugar Leve of Population is 150 (fail to reject H0)')"
   ]
  },
  {
   "cell_type": "markdown",
   "metadata": {
    "colab_type": "text",
    "id": "crWo0dbNHhLF"
   },
   "source": [
    "#### Conclusion :The data is from the population with median sugar level as 150"
   ]
  },
  {
   "cell_type": "markdown",
   "metadata": {
    "colab_type": "text",
    "id": "rXHukXFpD0f8"
   },
   "source": [
    "## Part 1.d : Average age for the patients for should be not less than  40"
   ]
  },
  {
   "cell_type": "markdown",
   "metadata": {
    "colab_type": "text",
    "id": "99p5PAiyC7Pn"
   },
   "source": [
    "#### Step 1 : We are going to conduct the test of Age for a population, i.e. if the Population mean of Age is not less than 40.\n",
    "\n",
    "Considering the problem statement on mind the Hypothesis would be ;\n",
    "\n",
    "*   Null Hypothesis : Population Age Mean  ≥ 40\n",
    "\n",
    "*   Alternative Hypothesis : Population Age Mean < 40\n"
   ]
  },
  {
   "cell_type": "markdown",
   "metadata": {
    "colab_type": "text",
    "id": "2ZmGhKdhEkGj"
   },
   "source": [
    "#### Step 2 : By the type of the problem or the hypothesis,we can say a 'One Sample t-test' is appropriate for the situation.\n",
    "\n",
    "So before performing a 'One Sample t-test', we need to test the assumption of one sample t-test ,i.e. the population should follow normal distribution. "
   ]
  },
  {
   "cell_type": "markdown",
   "metadata": {
    "colab_type": "text",
    "id": "SO4Er62gF9xD"
   },
   "source": [
    "#### Testing whether the Age follow normal distribution or not\n",
    "\n",
    "(performing a shapiro test)"
   ]
  },
  {
   "cell_type": "markdown",
   "metadata": {
    "colab_type": "text",
    "id": "MtEHjed7GXOK"
   },
   "source": [
    "#### Hypothesis of shapiro test :\n",
    "\n",
    "*   Null Hypothesis : Populaton follow Normal Distribution\n",
    "*   Alternative Hypothesis:Population does not follow Normal Distribution\n"
   ]
  },
  {
   "cell_type": "code",
   "execution_count": 11,
   "metadata": {
    "colab": {
     "base_uri": "https://localhost:8080/",
     "height": 51
    },
    "colab_type": "code",
    "id": "yYfW4L85y6jL",
    "outputId": "a7959596-967e-48dc-e010-0f9063ddb908"
   },
   "outputs": [
    {
     "name": "stdout",
     "output_type": "stream",
     "text": [
      "Statistics=0.911, p=0.000\n",
      "Samples is not from Gaussian Population (reject H0)\n"
     ]
    }
   ],
   "source": [
    "from scipy.stats import shapiro\n",
    "from scipy import stats\n",
    "# normality test\n",
    "stat, p = shapiro(data['Age'])\n",
    "print('Statistics=%.3f, p=%.3f' % (stat, p))\n",
    "# interpret\n",
    "alpha = 0.05\n",
    "if p > alpha:\n",
    "\tprint('Sample is from Gaussian Population (fail to reject H0)')\n",
    "else:\n",
    "\tprint('Samples is not from Gaussian Population (reject H0)')"
   ]
  },
  {
   "cell_type": "markdown",
   "metadata": {
    "colab_type": "text",
    "id": "bs0P8UWwHDZ7"
   },
   "source": [
    "#### Conclussion : As the data does not follow Normal Distribution,we can not perform a sample t-test.In this case we might need to look into non-parametric test. Here we will be performing Wilcoxon sign rank test."
   ]
  },
  {
   "cell_type": "code",
   "execution_count": 12,
   "metadata": {},
   "outputs": [
    {
     "name": "stdout",
     "output_type": "stream",
     "text": [
      "Test statistic: 5191300.5\n",
      "p-value: 1.3343427884792995e-20\n",
      "The Median Age of Population is not less than 40 (reject H0)\n"
     ]
    }
   ],
   "source": [
    "# hypothesized median\n",
    "M_0 = 40\n",
    "\n",
    "# calculate the difference between sample percentages and M_0\n",
    "diff = data['Age'] - M_0\n",
    "\n",
    "# perform wilcoxon signed rank test\n",
    "# pass the differnces to the parameter, 'x'\n",
    "# pass the two-tailed condition to the parameter, 'alternative'\n",
    "test_stat, p_value = stats.wilcoxon(x = diff, alternative = 'two-sided')\n",
    "\n",
    "# print the test statistic and corresponding p-value\n",
    "print('Test statistic:', test_stat)\n",
    "print('p-value:', p_value)\n",
    "alpha = 0.05\n",
    "if p_value/2 < alpha :\n",
    "  print('The Median Age of Population is not less than 40 (reject H0)')\n",
    "else:\n",
    "  print('The Median Age of Population is less than 40 (fail to reject H0)')"
   ]
  },
  {
   "cell_type": "markdown",
   "metadata": {
    "colab_type": "text",
    "id": "crWo0dbNHhLF"
   },
   "source": [
    "#### Conclusion :The data is from the population with median Age is not less than 40"
   ]
  },
  {
   "cell_type": "code",
   "execution_count": 13,
   "metadata": {},
   "outputs": [
    {
     "data": {
      "text/plain": [
       "Index(['Patient_id', 'Oxy_level', 'Pulse_rate', 'Blood_Sugar', 'Age', 'Sex',\n",
       "       'Old_1', 'Old_2', 'Old_3', 'New_1', 'New_2', 'New_3'],\n",
       "      dtype='object')"
      ]
     },
     "execution_count": 13,
     "metadata": {},
     "output_type": "execute_result"
    }
   ],
   "source": [
    "data.columns"
   ]
  },
  {
   "cell_type": "markdown",
   "metadata": {},
   "source": [
    "# Part 2 : Validate if there is any gender discrimintion while selecting the sample"
   ]
  },
  {
   "cell_type": "code",
   "execution_count": 14,
   "metadata": {},
   "outputs": [
    {
     "data": {
      "text/plain": [
       "F    2544\n",
       "M    2456\n",
       "Name: Sex, dtype: int64"
      ]
     },
     "execution_count": 14,
     "metadata": {},
     "output_type": "execute_result"
    }
   ],
   "source": [
    "# use 'value_counts()' to calculate the count for each category in the variable 'education' \n",
    "observed_value = data['Sex'].value_counts()\n",
    "\n",
    "# observed values\n",
    "observed_value"
   ]
  },
  {
   "cell_type": "code",
   "execution_count": 15,
   "metadata": {},
   "outputs": [
    {
     "data": {
      "text/plain": [
       "[2500.0, 2500.0]"
      ]
     },
     "execution_count": 15,
     "metadata": {},
     "output_type": "execute_result"
    }
   ],
   "source": [
    "# use 'value_counts()' to calculate the count for each category in the variable 'education' \n",
    "exp_count = [ len(data) / 2 ] * 2 \n",
    "\n",
    "# count of each category\n",
    "exp_count"
   ]
  },
  {
   "cell_type": "code",
   "execution_count": 16,
   "metadata": {},
   "outputs": [],
   "source": [
    "# calculate the expected values for each category\n",
    "# multiply the count by sample size and divide it by total number of observations in the population\n",
    "expected_value = [ len(data) / 2 ] * 2"
   ]
  },
  {
   "cell_type": "code",
   "execution_count": 17,
   "metadata": {},
   "outputs": [
    {
     "name": "stdout",
     "output_type": "stream",
     "text": [
      "Observed Values:  [2544, 2456]\n",
      "Expected Values:  [2500.0, 2500.0]\n"
     ]
    }
   ],
   "source": [
    "# create a list of observed values\n",
    "print(\"Observed Values: \", list(observed_value))\n",
    "\n",
    "# create a list of expected values\n",
    "print(\"Expected Values: \", list(expected_value))"
   ]
  },
  {
   "cell_type": "code",
   "execution_count": 18,
   "metadata": {},
   "outputs": [
    {
     "name": "stdout",
     "output_type": "stream",
     "text": [
      "Critical value for chi-square test: 3.8415\n"
     ]
    }
   ],
   "source": [
    "import numpy as np\n",
    "# calculate the χ2-value for 90% of confidence level\n",
    "# use 'stats.chi2.isf()' to find the χ2-value corresponding to the upper tail probability 'q'\n",
    "# pass the value of 'alpha' to the parameter 'q', here alpha = 0.1\n",
    "# pass the degrees of freedom to the parameter 'df' \n",
    "# use 'round()' to round-off the value to 4 digits\n",
    "chi2_val = np.abs(round(stats.chi2.isf(q = 0.05, df = 1), 4))\n",
    "\n",
    "print('Critical value for chi-square test:', chi2_val)"
   ]
  },
  {
   "cell_type": "markdown",
   "metadata": {},
   "source": [
    "i.e. if the chi-square value is greater than 3.8415 or p-value is less than 0.05 then we reject the null hypothesis."
   ]
  },
  {
   "cell_type": "code",
   "execution_count": 19,
   "metadata": {},
   "outputs": [],
   "source": [
    "from scipy.stats import chisquare"
   ]
  },
  {
   "cell_type": "code",
   "execution_count": 20,
   "metadata": {},
   "outputs": [
    {
     "name": "stdout",
     "output_type": "stream",
     "text": [
      "Test statistic: 1.5488\n",
      "p-value: 0.21331268082606386\n"
     ]
    }
   ],
   "source": [
    "# use the 'chisquare()' to perform the goodness of fit test\n",
    "# the function returns the test statistic value and corresponding p-value\n",
    "# pass the observed values to the parameter, 'f_obs'\n",
    "# pass the expected values to the parameter, 'f_exp'\n",
    "test_stat, p_value = chisquare(f_obs = observed_value, f_exp = expected_value)\n",
    "\n",
    "print('Test statistic:', test_stat)\n",
    "print('p-value:', p_value)"
   ]
  },
  {
   "cell_type": "markdown",
   "metadata": {},
   "source": [
    "#### Conclusion : The above output shows that the chi-square test statistic is less than 3.8415 and the p-value is greater than 0.05, thus, we accept the null hypothesis and conclude that there is no significant difference between the observed and expected values.That means there is no gender discrimination while selecting the sample"
   ]
  },
  {
   "cell_type": "markdown",
   "metadata": {},
   "source": [
    "# Part 3 : There is no association between the gender and age group on whom the test was applied"
   ]
  },
  {
   "cell_type": "code",
   "execution_count": 21,
   "metadata": {},
   "outputs": [],
   "source": [
    "data['Age_group'] = data['Age']"
   ]
  },
  {
   "cell_type": "code",
   "execution_count": 22,
   "metadata": {},
   "outputs": [],
   "source": [
    "# given data\n",
    "# total marks of students from group A\n",
    "data['Age_group'][data['Age'] <= 12 ] = 'group A'\n",
    "\n",
    "# total marks of students from group B\n",
    "data['Age_group'][(data['Age'] > 12) & (data['Age'] <= 25)] = 'group B'\n",
    "\n",
    "# total marks of students from group C\n",
    "data['Age_group'][(data['Age'] > 25) & (data['Age'] <= 40)] = 'group C'\n",
    "\n",
    "# total marks of students from group D\n",
    "data['Age_group'][(data['Age'] > 40) & (data['Age'] <= 58)] = 'group D'\n",
    "\n",
    "# total marks of students from group E\n",
    "data['Age_group'][(data['Age'] > 58) & (data['Age'] <= 81)] = 'group E'"
   ]
  },
  {
   "cell_type": "code",
   "execution_count": 23,
   "metadata": {},
   "outputs": [
    {
     "data": {
      "text/plain": [
       "array(['group A', 'group D', 'group C', 'group B', 'group E'],\n",
       "      dtype=object)"
      ]
     },
     "execution_count": 23,
     "metadata": {},
     "output_type": "execute_result"
    }
   ],
   "source": [
    "data['Age_group'].unique()"
   ]
  },
  {
   "cell_type": "code",
   "execution_count": 24,
   "metadata": {},
   "outputs": [
    {
     "data": {
      "text/html": [
       "<div>\n",
       "<style scoped>\n",
       "    .dataframe tbody tr th:only-of-type {\n",
       "        vertical-align: middle;\n",
       "    }\n",
       "\n",
       "    .dataframe tbody tr th {\n",
       "        vertical-align: top;\n",
       "    }\n",
       "\n",
       "    .dataframe thead th {\n",
       "        text-align: right;\n",
       "    }\n",
       "</style>\n",
       "<table border=\"1\" class=\"dataframe\">\n",
       "  <thead>\n",
       "    <tr style=\"text-align: right;\">\n",
       "      <th>Age_group</th>\n",
       "      <th>group A</th>\n",
       "      <th>group B</th>\n",
       "      <th>group C</th>\n",
       "      <th>group D</th>\n",
       "      <th>group E</th>\n",
       "    </tr>\n",
       "    <tr>\n",
       "      <th>Sex</th>\n",
       "      <th></th>\n",
       "      <th></th>\n",
       "      <th></th>\n",
       "      <th></th>\n",
       "      <th></th>\n",
       "    </tr>\n",
       "  </thead>\n",
       "  <tbody>\n",
       "    <tr>\n",
       "      <th>F</th>\n",
       "      <td>493</td>\n",
       "      <td>304</td>\n",
       "      <td>325</td>\n",
       "      <td>432</td>\n",
       "      <td>990</td>\n",
       "    </tr>\n",
       "    <tr>\n",
       "      <th>M</th>\n",
       "      <td>471</td>\n",
       "      <td>258</td>\n",
       "      <td>345</td>\n",
       "      <td>403</td>\n",
       "      <td>979</td>\n",
       "    </tr>\n",
       "  </tbody>\n",
       "</table>\n",
       "</div>"
      ],
      "text/plain": [
       "Age_group  group A  group B  group C  group D  group E\n",
       "Sex                                                   \n",
       "F              493      304      325      432      990\n",
       "M              471      258      345      403      979"
      ]
     },
     "execution_count": 24,
     "metadata": {},
     "output_type": "execute_result"
    }
   ],
   "source": [
    "pd.crosstab(data['Sex'], data['Age_group'])"
   ]
  },
  {
   "cell_type": "code",
   "execution_count": 25,
   "metadata": {},
   "outputs": [],
   "source": [
    "# observed values  \n",
    "observed_value = pd.crosstab(data['Sex'], data['Age_group'])\n",
    "#pd.pivot_table(data, values=\"value\", index=[\"Sex\"], columns=\"Age_group\", aggfunc='count').values"
   ]
  },
  {
   "cell_type": "code",
   "execution_count": 26,
   "metadata": {
    "scrolled": true
   },
   "outputs": [
    {
     "data": {
      "text/html": [
       "<div>\n",
       "<style scoped>\n",
       "    .dataframe tbody tr th:only-of-type {\n",
       "        vertical-align: middle;\n",
       "    }\n",
       "\n",
       "    .dataframe tbody tr th {\n",
       "        vertical-align: top;\n",
       "    }\n",
       "\n",
       "    .dataframe thead th {\n",
       "        text-align: right;\n",
       "    }\n",
       "</style>\n",
       "<table border=\"1\" class=\"dataframe\">\n",
       "  <thead>\n",
       "    <tr style=\"text-align: right;\">\n",
       "      <th>Age_group</th>\n",
       "      <th>group A</th>\n",
       "      <th>group B</th>\n",
       "      <th>group C</th>\n",
       "      <th>group D</th>\n",
       "      <th>group E</th>\n",
       "    </tr>\n",
       "    <tr>\n",
       "      <th>Sex</th>\n",
       "      <th></th>\n",
       "      <th></th>\n",
       "      <th></th>\n",
       "      <th></th>\n",
       "      <th></th>\n",
       "    </tr>\n",
       "  </thead>\n",
       "  <tbody>\n",
       "    <tr>\n",
       "      <th>F</th>\n",
       "      <td>493</td>\n",
       "      <td>304</td>\n",
       "      <td>325</td>\n",
       "      <td>432</td>\n",
       "      <td>990</td>\n",
       "    </tr>\n",
       "    <tr>\n",
       "      <th>M</th>\n",
       "      <td>471</td>\n",
       "      <td>258</td>\n",
       "      <td>345</td>\n",
       "      <td>403</td>\n",
       "      <td>979</td>\n",
       "    </tr>\n",
       "  </tbody>\n",
       "</table>\n",
       "</div>"
      ],
      "text/plain": [
       "Age_group  group A  group B  group C  group D  group E\n",
       "Sex                                                   \n",
       "F              493      304      325      432      990\n",
       "M              471      258      345      403      979"
      ]
     },
     "execution_count": 26,
     "metadata": {},
     "output_type": "execute_result"
    }
   ],
   "source": [
    "observed_value"
   ]
  },
  {
   "cell_type": "markdown",
   "metadata": {},
   "source": [
    "#### Performing a 2-way Chi-square test : to test the independence between the gender and age-group."
   ]
  },
  {
   "cell_type": "code",
   "execution_count": 27,
   "metadata": {},
   "outputs": [
    {
     "name": "stdout",
     "output_type": "stream",
     "text": [
      "Test statistic: 4.385410736868801\n",
      "p-value: 0.3563518358703542\n",
      "Degrees of freedom: 4\n",
      "Expected values: [[ 490.4832  285.9456  340.896   424.848  1001.8272]\n",
      " [ 473.5168  276.0544  329.104   410.152   967.1728]]\n"
     ]
    }
   ],
   "source": [
    "from scipy.stats import chi2_contingency\n",
    "# use the 'chi2_contingency()' to check the independence of variables\n",
    "# the function returns the test statistic value, corresponding p-value, degrees of freedom of the test and expected values\n",
    "# pass the observed values to the parameter, 'observed'\n",
    "# 'correction = False' will not apply the Yates' correction\n",
    "test_stat, p, dof, expected_value = chi2_contingency(observed = observed_value)\n",
    "\n",
    "# print the output\n",
    "print(\"Test statistic:\", test_stat)\n",
    "print(\"p-value:\", p)\n",
    "print(\"Degrees of freedom:\", dof)\n",
    "print(\"Expected values:\", expected_value)"
   ]
  },
  {
   "cell_type": "markdown",
   "metadata": {},
   "source": [
    "#### Conclusion : There is no association between the gender and age group, which implies the drug test has been applied on a random basis without any discrination."
   ]
  },
  {
   "cell_type": "markdown",
   "metadata": {
    "colab_type": "text",
    "id": "YpSI9PA6SdQh"
   },
   "source": [
    "# 4.\tValidate the claim that New Drug works better:\n"
   ]
  },
  {
   "cell_type": "markdown",
   "metadata": {
    "colab_type": "text",
    "id": "wD-8xRNnTQmZ"
   },
   "source": [
    "#### To validate this claim, We would like to have a stage wise  comparison between drugs.\n",
    "\n",
    "## Test 4.a : Comparison test  between New Drug and Old Drug in Stage 1\n",
    "\n",
    "*   Null Hypothesis : For stage 1 ;Mean performance of the Old Drug =  Mean performance of the New Drug\n",
    "*   Alternative Hypothesis : For stage 1 ;Mean performance of the Old Drug ≠  Mean performance of the New Drug\n",
    "\n",
    "#### From the problem statement it is very obvious that the test is a two sample independent t-test.\n",
    "\n",
    "#### To consider the t-test, we first need to check \n",
    "\n",
    "*   whether the samples are from Normal population\n",
    "*   Then samples are from homogeneous distribution\n",
    "\n"
   ]
  },
  {
   "cell_type": "markdown",
   "metadata": {
    "colab_type": "text",
    "id": "neA5zdtVz5uQ"
   },
   "source": [
    "#### Step 1 : Normality test for performance of the Old Drug"
   ]
  },
  {
   "cell_type": "markdown",
   "metadata": {
    "colab_type": "text",
    "id": "_6QG-IYhfLrS"
   },
   "source": [
    "#### Hypothesis of shapiro test :\n",
    "\n",
    "*   Null Hypothesis : Populaton follow Normal Distribution\n",
    "*   Alternative Hypothesis:Population does not follow Normal Distribution"
   ]
  },
  {
   "cell_type": "code",
   "execution_count": 28,
   "metadata": {
    "colab": {
     "base_uri": "https://localhost:8080/",
     "height": 51
    },
    "colab_type": "code",
    "id": "oW1m-Az1z9Ag",
    "outputId": "18eec4c3-f8da-486e-bb4e-5c3841bdee8b"
   },
   "outputs": [
    {
     "name": "stdout",
     "output_type": "stream",
     "text": [
      "Statistics=1.000, p=0.487\n",
      "Sample is from Gaussian Population (fail to reject H0)\n"
     ]
    }
   ],
   "source": [
    "from scipy.stats import shapiro\n",
    "# normality test\n",
    "stat, p = shapiro(data['Old_1'])\n",
    "print('Statistics=%.3f, p=%.3f' % (stat, p))\n",
    "# interpret\n",
    "alpha = 0.05\n",
    "if p > alpha:\n",
    "\tprint('Sample is from Gaussian Population (fail to reject H0)')\n",
    "else:\n",
    "\tprint('Samples is not from Gaussian Population (reject H0)')"
   ]
  },
  {
   "cell_type": "markdown",
   "metadata": {
    "colab_type": "text",
    "id": "pYsK8wyNiGVm"
   },
   "source": [
    "#### Conclussion : the data about performance of the Old Drug in Stage 1 follows Normal Distribution"
   ]
  },
  {
   "cell_type": "markdown",
   "metadata": {
    "colab_type": "text",
    "id": "DvW8oU8Xz_sW"
   },
   "source": [
    "#### Step 2 : Normality test for performance of the New Drug"
   ]
  },
  {
   "cell_type": "markdown",
   "metadata": {
    "colab_type": "text",
    "id": "aCzsfH5hfQNW"
   },
   "source": [
    "#### Hypothesis of shapiro test :\n",
    "\n",
    "*   Null Hypothesis : Populaton follow Normal Distribution\n",
    "*   Alternative Hypothesis:Population does not follow Normal Distribution"
   ]
  },
  {
   "cell_type": "code",
   "execution_count": 29,
   "metadata": {
    "colab": {
     "base_uri": "https://localhost:8080/",
     "height": 51
    },
    "colab_type": "code",
    "id": "GuVnbWOm0Cay",
    "outputId": "d8beef13-fd15-4bcd-d9fa-a10dcfe60158"
   },
   "outputs": [
    {
     "name": "stdout",
     "output_type": "stream",
     "text": [
      "Statistics=1.000, p=0.518\n",
      "Sample is from Gaussian Population (fail to reject H0)\n"
     ]
    }
   ],
   "source": [
    "# normality test\n",
    "stat, p = shapiro(data['New_1'])\n",
    "print('Statistics=%.3f, p=%.3f' % (stat, p))\n",
    "# interpret\n",
    "alpha = 0.05\n",
    "if p > alpha:\n",
    "\tprint('Sample is from Gaussian Population (fail to reject H0)')\n",
    "else:\n",
    "\tprint('Sample is not from Gaussian Population (reject H0)')"
   ]
  },
  {
   "cell_type": "markdown",
   "metadata": {
    "colab_type": "text",
    "id": "2PIryRV5iEva"
   },
   "source": [
    "#### Conclusion : the data about performance of the New Drug in Stage 1 follows Normal Distribution"
   ]
  },
  {
   "cell_type": "markdown",
   "metadata": {
    "colab_type": "text",
    "id": "cW9qKrjY0Fzk"
   },
   "source": [
    "#### Step 3 : Homogeniety test for performance of the OLd Drug & performance of the New Drug"
   ]
  },
  {
   "cell_type": "markdown",
   "metadata": {
    "colab_type": "text",
    "id": "w0pV_1nrfWT6"
   },
   "source": [
    "#### Hypothesis of shapiro test :\n",
    "\n",
    "*   Null Hypothesis : Populations are having same variance(homogeneous)\n",
    "*   Alternative Hypothesis : Populations are not having same variance(not homogeneous)"
   ]
  },
  {
   "cell_type": "code",
   "execution_count": 30,
   "metadata": {
    "colab": {
     "base_uri": "https://localhost:8080/",
     "height": 51
    },
    "colab_type": "code",
    "id": "Kzo5DgyD0Ihw",
    "outputId": "9682d5c0-7aa7-4a78-be6e-5eb9a5347026"
   },
   "outputs": [
    {
     "name": "stdout",
     "output_type": "stream",
     "text": [
      "LeveneResult(statistic=0.5266897379212527, pvalue=0.46801888386946944)\n",
      "Populations are homogeneous (fail to reject H0)\n"
     ]
    }
   ],
   "source": [
    "from scipy import stats\n",
    "#Null Hypothesis : var(performance of the old Drug) =var(performance of the new Drug)\n",
    "#Alternative Hypothesis : var(performance of the old Drug) !=var(performance of the new Drug)\n",
    "print(stats.levene(data['Old_1'],data['New_1']))\n",
    "# interpret\n",
    "p = stats.levene(data['Old_1'],data['New_1'])[1]\n",
    "alpha = 0.05\n",
    "if p > alpha:\n",
    "\tprint('Populations are homogeneous (fail to reject H0)')\n",
    "else:\n",
    "\tprint('Populations are not homogeneous (reject H0)')"
   ]
  },
  {
   "cell_type": "markdown",
   "metadata": {
    "colab_type": "text",
    "id": "71Xz_6EwiBlh"
   },
   "source": [
    "#### Conclusion : The performance of the old Drug and the new Drug in Stage 1 are from homogeneous population.Now as all the assumpion of two sample t-test are satisfied,we can procceed to perform two sample independent t-test."
   ]
  },
  {
   "cell_type": "markdown",
   "metadata": {
    "colab_type": "text",
    "id": "HSxEDZmt0Oe4"
   },
   "source": [
    "#### Step 4 : Two sample t-test\n",
    "\n",
    "Null Hypothesis : For stage 1 ;Mean performance of the new Drug =  Mean performance of the old Drug\n",
    "\n",
    "Alternative Hypothesis : For stage 1 ;Mean performance of the new Drug ≠  Mean performance of the old Drug"
   ]
  },
  {
   "cell_type": "code",
   "execution_count": 32,
   "metadata": {
    "colab": {
     "base_uri": "https://localhost:8080/",
     "height": 68
    },
    "colab_type": "code",
    "id": "SrEUp5Fj0R15",
    "outputId": "2d985f91-2437-4a07-8aaa-bbbe3f56984a"
   },
   "outputs": [
    {
     "name": "stdout",
     "output_type": "stream",
     "text": [
      "t-statistics is -0.31003709333238755\n",
      "p-value is 0.7565392107072749\n",
      "Mean of the Populations are same (fail to reject H0)\n"
     ]
    }
   ],
   "source": [
    "from scipy import stats\n",
    "## t-test\n",
    "#Null Hypothesis is PopulationMean(performance of the old Drug) = PopulationMean(performance of the new Drug)\n",
    "#Alternative Hypothesis is PopulationMean(performance of the old Drug) ≠ PopulationMean(performance of the new Drug)\n",
    "t2, p2 = stats.ttest_ind(data['Old_1'],data['New_1'])\n",
    "print(\"t-statistics is \" + str(t2))\n",
    "print(\"p-value is \" + str(p2))\n",
    "# interpret\n",
    "alpha = 0.05\n",
    "if p2 > alpha:\n",
    "\tprint('Mean of the Populations are same (fail to reject H0)')\n",
    "else:\n",
    "\tprint('Mean of the Populations are not same (reject H0)')"
   ]
  },
  {
   "cell_type": "markdown",
   "metadata": {
    "colab_type": "text",
    "id": "VeJCAcrAh3pD"
   },
   "source": [
    "#### Conclusion : The performance of the old Drug & the new Drug in Stage 1 are same.\n",
    "\n",
    "#### We can not conclude anything about better performance among the old Drug & the new Drug from Stage 1 So we will procceed further into Stage 2 and would try to draw a comparative inference from there."
   ]
  },
  {
   "cell_type": "markdown",
   "metadata": {
    "colab_type": "text",
    "id": "OcwV1o8RBnV2"
   },
   "source": [
    "## Test 4.b : Comparison test  between the old Drug and the new Drug in Stage 2\n",
    "\n",
    "*   Null Hypothesis : For stage 2 ;Mean performance of the old Drug =  Mean performance of the new Drug\n",
    "*   Alternative Hypothesis : For stage 2 ;Mean performance of the old Drug ≠  Mean performance of the new Drug\n",
    "\n",
    "#### From the problem statement it is very obvious that the test is a two sample independent t-test.\n",
    "\n",
    "#### To consider the t-test, we first need to check \n",
    "\n",
    "*   whether the samples are from Normal population\n",
    "*   Then samples are from homogeneous distribution\n"
   ]
  },
  {
   "cell_type": "markdown",
   "metadata": {
    "colab_type": "text",
    "id": "fCREY6ctInjD"
   },
   "source": [
    "#### Step 1 : Normality test for performance of the old Drug"
   ]
  },
  {
   "cell_type": "markdown",
   "metadata": {
    "colab_type": "text",
    "id": "4cKNJ8n0I0C9"
   },
   "source": [
    "#### Hypothesis of shapiro test :\n",
    "\n",
    "*   Null Hypothesis : Populaton follow Normal Distribution\n",
    "*   Alternative Hypothesis:Population does not follow Normal Distribution"
   ]
  },
  {
   "cell_type": "code",
   "execution_count": 33,
   "metadata": {
    "colab": {
     "base_uri": "https://localhost:8080/",
     "height": 51
    },
    "colab_type": "code",
    "id": "Fhq0a2f10lFB",
    "outputId": "34fd26bb-a593-4052-f20b-0987feda68a0"
   },
   "outputs": [
    {
     "name": "stdout",
     "output_type": "stream",
     "text": [
      "Statistics=0.999, p=0.056\n",
      "Sample looks Gaussian (fail to reject H0)\n"
     ]
    }
   ],
   "source": [
    "from scipy.stats import shapiro\n",
    "# normality test\n",
    "stat, p = shapiro(data['Old_2'])\n",
    "print('Statistics=%.3f, p=%.3f' % (stat, p))\n",
    "# interpret\n",
    "alpha = 0.05\n",
    "if p > alpha:\n",
    "\tprint('Sample looks Gaussian (fail to reject H0)')\n",
    "else:\n",
    "\tprint('Sample does not look Gaussian (reject H0)')"
   ]
  },
  {
   "cell_type": "markdown",
   "metadata": {
    "colab_type": "text",
    "id": "FxVdMdcriOek"
   },
   "source": [
    "#### Conclussion : the data about performance of the old Drug in Stage 2 follows Normal Distribution"
   ]
  },
  {
   "cell_type": "markdown",
   "metadata": {
    "colab_type": "text",
    "id": "Zuprch2EI_Sh"
   },
   "source": [
    "#### Step 2 : Normality test for performance of the new Drug"
   ]
  },
  {
   "cell_type": "markdown",
   "metadata": {
    "colab_type": "text",
    "id": "u7Ii8tXwI82-"
   },
   "source": [
    "#### Hypothesis of shapiro test :\n",
    "\n",
    "*   Null Hypothesis : Populaton follow Normal Distribution\n",
    "*   Alternative Hypothesis:Population does not follow Normal Distribution"
   ]
  },
  {
   "cell_type": "code",
   "execution_count": 34,
   "metadata": {
    "colab": {
     "base_uri": "https://localhost:8080/",
     "height": 51
    },
    "colab_type": "code",
    "id": "CNWxO5TD0naZ",
    "outputId": "b3c5790e-1d8f-4f8d-fc38-8a83924863c5"
   },
   "outputs": [
    {
     "name": "stdout",
     "output_type": "stream",
     "text": [
      "Statistics=1.000, p=0.763\n",
      "Sample looks Gaussian (fail to reject H0)\n"
     ]
    }
   ],
   "source": [
    "from scipy.stats import shapiro\n",
    "# normality test\n",
    "stat, p = shapiro(data['New_2'])\n",
    "print('Statistics=%.3f, p=%.3f' % (stat, p))\n",
    "# interpret\n",
    "alpha = 0.05\n",
    "if p > alpha:\n",
    "\tprint('Sample looks Gaussian (fail to reject H0)')\n",
    "else:\n",
    "\tprint('Sample does not look Gaussian (reject H0)')"
   ]
  },
  {
   "cell_type": "markdown",
   "metadata": {
    "colab_type": "text",
    "id": "tHjxqdVqJi0S"
   },
   "source": [
    "#### Conclussion : the data about performance of the new Drug in Stage 2 follows Normal Distribution"
   ]
  },
  {
   "cell_type": "markdown",
   "metadata": {
    "colab_type": "text",
    "id": "vaeZea15KCVG"
   },
   "source": [
    "#### Step 3 : Homogeniety test for performance of the old Drug & performance of the new Drug ;in Stage 2 "
   ]
  },
  {
   "cell_type": "markdown",
   "metadata": {
    "colab_type": "text",
    "id": "wcv2ZALkKDcH"
   },
   "source": [
    "#### Hypothesis of levene test :\n",
    "\n",
    "*   Null Hypothesis : Populations are having same variance(homogeneous)\n",
    "*   Alternative Hypothesis : Populations are not having same variance(not homogeneous)"
   ]
  },
  {
   "cell_type": "code",
   "execution_count": 35,
   "metadata": {
    "colab": {
     "base_uri": "https://localhost:8080/",
     "height": 51
    },
    "colab_type": "code",
    "id": "iyoONz050qFc",
    "outputId": "ac9f3358-cc69-4ffe-a913-c0f59b26c580"
   },
   "outputs": [
    {
     "name": "stdout",
     "output_type": "stream",
     "text": [
      "LeveneResult(statistic=188.20579904706358, pvalue=1.8963351859772685e-42)\n",
      "Populations are not homogeneous (reject H0)\n"
     ]
    }
   ],
   "source": [
    "from scipy import stats\n",
    "#Null Hypothesis : var(data1) =var(data2)\n",
    "#Alternative Hypothesis : var(data1) ≠ var(data2)\n",
    "print(stats.levene(data['Old_2'],data['New_2']))\n",
    "# interpret\n",
    "p = stats.levene(data['Old_2'],data['New_2'])[1]\n",
    "alpha = 0.05\n",
    "if p > alpha:\n",
    "\tprint('Populations are homogeneous (fail to reject H0)')\n",
    "else:\n",
    "\tprint('Populations are not homogeneous (reject H0)')"
   ]
  },
  {
   "cell_type": "markdown",
   "metadata": {
    "colab_type": "text",
    "id": "9tcpY_53iY7q"
   },
   "source": [
    "#### Conclussion : The performance of the old Drug and the new Drug in Stage 2 are not from homogeneous population.Now as the assumption of two sample t-test is not getting satisfied,we need to think about non-parametric mean test.i.e. Mann-Whitney test."
   ]
  },
  {
   "cell_type": "code",
   "execution_count": 36,
   "metadata": {
    "colab": {
     "base_uri": "https://localhost:8080/",
     "height": 51
    },
    "colab_type": "code",
    "id": "MitgwxzOy61c",
    "outputId": "d96301cb-545e-43ba-fc52-ba1a1f5d0064"
   },
   "outputs": [
    {
     "name": "stdout",
     "output_type": "stream",
     "text": [
      "Ttest_indResult(statistic=-11.682067948037085, pvalue=2.565661991049304e-31)\n",
      "Samples are having different population mean\n"
     ]
    }
   ],
   "source": [
    "print(stats.ttest_ind(data['Old_2'],data['New_2'],equal_var=False))\n",
    "p = stats.ttest_ind(data['Old_2'],data['New_2'],equal_var=False)[1]\n",
    "alpha = 0.05\n",
    "if p > alpha :\n",
    "    print('Both are having same population mean')\n",
    "else:\n",
    "    print('Samples are having different population mean')"
   ]
  },
  {
   "cell_type": "markdown",
   "metadata": {
    "colab_type": "text",
    "id": "agOXs5BuiZ7v"
   },
   "source": [
    "#### Conclussion : From the above Welch's t-test,we can see that the mean performance of the old Drug and the New Drug are not equal.Now we would like to see which Drug performs better.So instead of considering two-sided Mann-Whitney test ,we would perform a one-sided Mann-Whitney test."
   ]
  },
  {
   "cell_type": "markdown",
   "metadata": {},
   "source": [
    "#### Step 4 : Welch t-test, to check if he performance of the old Drug is better than the performance of the new Drug in stage 2"
   ]
  },
  {
   "cell_type": "markdown",
   "metadata": {
    "colab_type": "text",
    "id": "F2Kly7l6f19R"
   },
   "source": [
    "* Null Hypothesis : the performance of the old Drug is better than the performance of the new Drug in stage 2\n",
    "* Alternative Hypothesis : the performance of the old Drug is inferior than the performance of the new Drug in stage 2"
   ]
  },
  {
   "cell_type": "code",
   "execution_count": 37,
   "metadata": {
    "colab": {
     "base_uri": "https://localhost:8080/",
     "height": 51
    },
    "colab_type": "code",
    "id": "ILYNyN_qy64D",
    "outputId": "77682a52-e5cd-43e1-920b-f8d0303473b0"
   },
   "outputs": [
    {
     "name": "stdout",
     "output_type": "stream",
     "text": [
      "Ttest_indResult(statistic=-11.682067948037085, pvalue=2.565661991049304e-31)\n",
      "Mean of the old Drug is less than Mean of the new Drug  (reject H0)\n"
     ]
    }
   ],
   "source": [
    "print(stats.ttest_ind(data['Old_2'],data['New_2'],equal_var=False))\n",
    "p = stats.ttest_ind(data['Old_2'],data['New_2'],equal_var=False)[1]\n",
    "alpha = 0.05\n",
    "if p/2 > alpha :\n",
    "    print('Mean of the old Drug is more than Mean of the new Drug  (fail to reject H0)')\n",
    "else:\n",
    "    print('Mean of the old Drug is less than Mean of the new Drug  (reject H0)')"
   ]
  },
  {
   "cell_type": "markdown",
   "metadata": {
    "colab_type": "text",
    "id": "zZBQ0CT8ibAW"
   },
   "source": [
    "#### Conclussion : the performance of the new Drug is better than the performance of the old Drug in stage 2"
   ]
  },
  {
   "cell_type": "markdown",
   "metadata": {
    "colab_type": "text",
    "id": "01l02AMLIRv4"
   },
   "source": [
    "## Test 4.c : Comparison test  between the old Drug and the new Drug in Stage 3\n",
    "\n",
    "*   Null Hypothesis : For stage 3 ;Mean performance of the old drug =  Mean performance of the new drug\n",
    "*   Alternative Hypothesis : For stage 3 ;Mean performance of the old drug ≠  Mean performance of the new drug\n",
    "\n",
    "#### From the problem statement it is very obvious that the test is a two sample independent t-test.\n",
    "\n",
    "#### To consider the t-test, we first need to check \n",
    "\n",
    "*   whether the samples are from Normal population\n",
    "*   Then samples are from homogeneous distribution"
   ]
  },
  {
   "cell_type": "markdown",
   "metadata": {},
   "source": [
    "#### Step 1 : Normality test of the effect of the Old drug for stage 3"
   ]
  },
  {
   "cell_type": "markdown",
   "metadata": {
    "colab_type": "text",
    "id": "bhVu9qmlzkHw"
   },
   "source": [
    "#### Hypothesis of shapiro test :\n",
    "\n",
    "*   Null Hypothesis : Populaton follow Normal Distribution\n",
    "*   Alternative Hypothesis:Population does not follow Normal Distribution"
   ]
  },
  {
   "cell_type": "code",
   "execution_count": 39,
   "metadata": {
    "colab": {
     "base_uri": "https://localhost:8080/",
     "height": 51
    },
    "colab_type": "code",
    "id": "kmjxR1NRy6sp",
    "outputId": "7932e33e-a798-406e-f539-2598706bacaf"
   },
   "outputs": [
    {
     "name": "stdout",
     "output_type": "stream",
     "text": [
      "Statistics=0.999, p=0.047\n",
      "Sample does not look Gaussian (reject H0)\n"
     ]
    }
   ],
   "source": [
    "from scipy.stats import shapiro\n",
    "# normality test\n",
    "stat, p = shapiro(data['Old_3'])\n",
    "print('Statistics=%.3f, p=%.3f' % (stat, p))\n",
    "# interpret\n",
    "alpha = 0.05\n",
    "if p > alpha:\n",
    "\tprint('Sample looks Gaussian (fail to reject H0)')\n",
    "else:\n",
    "\tprint('Sample does not look Gaussian (reject H0)')"
   ]
  },
  {
   "cell_type": "markdown",
   "metadata": {
    "colab_type": "text",
    "id": "7CYNhPG-JoB5"
   },
   "source": [
    "#### Conclussion : the data about performance of the old Drug in Stage 3 does not follow Normal Distribution"
   ]
  },
  {
   "cell_type": "markdown",
   "metadata": {},
   "source": [
    "#### Step 2 : Normality test of the effect of the new drug for stage 3"
   ]
  },
  {
   "cell_type": "markdown",
   "metadata": {
    "colab_type": "text",
    "id": "MfpiHW9_zmBP"
   },
   "source": [
    "#### Hypothesis of shapiro test :\n",
    "\n",
    "*   Null Hypothesis : Populaton follow Normal Distribution\n",
    "*   Alternative Hypothesis:Population does not follow Normal Distribution"
   ]
  },
  {
   "cell_type": "code",
   "execution_count": 40,
   "metadata": {
    "colab": {
     "base_uri": "https://localhost:8080/",
     "height": 51
    },
    "colab_type": "code",
    "id": "K0_ifb94y6vr",
    "outputId": "4c575e75-0a92-4678-f233-b5bddddd2b88"
   },
   "outputs": [
    {
     "name": "stdout",
     "output_type": "stream",
     "text": [
      "Statistics=1.000, p=0.249\n",
      "Sample looks Gaussian (fail to reject H0)\n"
     ]
    }
   ],
   "source": [
    "from scipy.stats import shapiro\n",
    "# normality test\n",
    "stat, p = shapiro(data['New_3'])\n",
    "print('Statistics=%.3f, p=%.3f' % (stat, p))\n",
    "# interpret\n",
    "alpha = 0.05\n",
    "if p > alpha:\n",
    "\tprint('Sample looks Gaussian (fail to reject H0)')\n",
    "else:\n",
    "\tprint('Sample does not look Gaussian (reject H0)')"
   ]
  },
  {
   "cell_type": "markdown",
   "metadata": {
    "colab_type": "text",
    "id": "jt_ltcH8JrNE"
   },
   "source": [
    "#### Conclussion : \n",
    "\n",
    "* The data about performance of the new Drug in Stage 3 follows Normal Distribution\n",
    "\n",
    "* The performance of the old Drug in Stage3 does not follow Normal distribution . So the assumption of two sample t-test is not getting satisfied,we need to think about non-parametric mean test.i.e. Mann-Whitney test."
   ]
  },
  {
   "cell_type": "code",
   "execution_count": 41,
   "metadata": {
    "colab": {
     "base_uri": "https://localhost:8080/",
     "height": 51
    },
    "colab_type": "code",
    "id": "MitgwxzOy61c",
    "outputId": "d96301cb-545e-43ba-fc52-ba1a1f5d0064"
   },
   "outputs": [
    {
     "name": "stdout",
     "output_type": "stream",
     "text": [
      "MannwhitneyuResult(statistic=563953.0, pvalue=0.0)\n",
      "Samples are having different population median\n"
     ]
    }
   ],
   "source": [
    "print(stats.mannwhitneyu(data['Old_3'],data['New_3']))\n",
    "p = stats.mannwhitneyu(data['Old_3'],data['New_3'])[1]\n",
    "alpha = 0.05\n",
    "if p > alpha :\n",
    "    print('Both are having same population median')\n",
    "else:\n",
    "    print('Samples are having different population median')"
   ]
  },
  {
   "cell_type": "markdown",
   "metadata": {
    "colab_type": "text",
    "id": "agOXs5BuiZ7v"
   },
   "source": [
    "#### Conclussion : From the above Mann-Whitney t-test,we can see that the mean performance of the old Drug and the New Drug are not equal.Now we would like to see which Drug performs better.So instead of considering two-sided Mann-Whitney test ,we would perform a one-sided Mann-Whitney test."
   ]
  },
  {
   "cell_type": "markdown",
   "metadata": {},
   "source": [
    "#### Step 3 : Mannwhitney Test : to check the performance of the old Drug is better than the performance of the new Drug in stage 3"
   ]
  },
  {
   "cell_type": "markdown",
   "metadata": {
    "colab_type": "text",
    "id": "F2Kly7l6f19R"
   },
   "source": [
    "#### Null Hypothesis : the performance of the old Drug is better than the performance of the new Drug in stage 3\n",
    "#### Alternative Hypothesis : the performance of the old Drug is inferior than the performance of the new Drug in stage 3"
   ]
  },
  {
   "cell_type": "code",
   "execution_count": 42,
   "metadata": {
    "colab": {
     "base_uri": "https://localhost:8080/",
     "height": 51
    },
    "colab_type": "code",
    "id": "ILYNyN_qy64D",
    "outputId": "77682a52-e5cd-43e1-920b-f8d0303473b0"
   },
   "outputs": [
    {
     "name": "stdout",
     "output_type": "stream",
     "text": [
      "MannwhitneyuResult(statistic=563953.0, pvalue=0.0)\n",
      "Median of the old Drug is less than Median of the new Drug  (reject H0)\n"
     ]
    }
   ],
   "source": [
    "print(stats.mannwhitneyu(data['Old_3'],data['New_3']))\n",
    "p = stats.mannwhitneyu(data['Old_3'],data['New_3'])[1]\n",
    "alpha = 0.05\n",
    "if p/2 > alpha :\n",
    "    print('Median of the old Drug is more than Median of the new Drug  (fail to reject H0)')\n",
    "else:\n",
    "    print('Median of the old Drug is less than Median of the new Drug  (reject H0)')"
   ]
  },
  {
   "cell_type": "markdown",
   "metadata": {
    "colab_type": "text",
    "id": "zZBQ0CT8ibAW"
   },
   "source": [
    "#### Conclusion : the performance of the new Drug is better than the performance of the old Drug in stage 3"
   ]
  },
  {
   "cell_type": "markdown",
   "metadata": {
    "colab_type": "text",
    "id": "YEbY_cMrlzv-"
   },
   "source": [
    "### Conclussion :\n",
    "##### *   In stage 1 : The performance of the old Drug & the new Drug are same.\n",
    "##### *   In stage 2 : The performance of the new Drug is better than the old Drug.\n",
    "##### *   In stage 3 : The performance of the new Drug is better than the old Drug.\n",
    "\n",
    "So,as a whole the new Drug performs better than the old Drug"
   ]
  },
  {
   "cell_type": "markdown",
   "metadata": {
    "colab_type": "text",
    "id": "lrJ7c-a5oDPs"
   },
   "source": [
    "# Test 5 : Validate the claim that there is gradual improvement in performance of the New Drug over the phases:"
   ]
  },
  {
   "cell_type": "markdown",
   "metadata": {
    "colab_type": "text",
    "id": "vmlv2wwZp_nB"
   },
   "source": [
    "## Test 5.a : We will compare the result of the new Drug over stage 1 & Stage 2 ,first.\n",
    "\n",
    "*   Null Hypothesis :The performance of Result-1 = The performance of Result-2\n",
    "*   Alternative Hypothesis :The performance of Result-1 ≠ The performance of Result-2 \n",
    "\n",
    "As in the data(effect of the new Drug) has been collected on the same patient(as in the same population) ,this is clearly the case of pair-wise t-test.\n",
    "\n",
    "Before conducting the pair-wise t-test,we need to test whether the performance of Result-1 & Result-2 follows Normal distribution."
   ]
  },
  {
   "cell_type": "markdown",
   "metadata": {},
   "source": [
    "#### Step 1 : Normality test of the effect of the new drug for stage 1"
   ]
  },
  {
   "cell_type": "markdown",
   "metadata": {
    "colab_type": "text",
    "id": "GyK3AflPwo_T"
   },
   "source": [
    "#### Hypothesis of shapiro test :\n",
    "\n",
    "*   Null Hypothesis : Populaton follow Normal Distribution\n",
    "*   Alternative Hypothesis:Population does not follow Normal Distribution"
   ]
  },
  {
   "cell_type": "code",
   "execution_count": 44,
   "metadata": {
    "colab": {
     "base_uri": "https://localhost:8080/",
     "height": 51
    },
    "colab_type": "code",
    "id": "MV_ugEXdy7A2",
    "outputId": "f1f29782-b96a-4782-ad7e-1f7b7a51e5e1"
   },
   "outputs": [
    {
     "name": "stdout",
     "output_type": "stream",
     "text": [
      "Statistics=1.000, p=0.518\n",
      "Sample looks Gaussian (fail to reject H0)\n"
     ]
    }
   ],
   "source": [
    "from scipy.stats import shapiro\n",
    "# normality test\n",
    "stat, p = shapiro(data['New_1'])\n",
    "print('Statistics=%.3f, p=%.3f' % (stat, p))\n",
    "# interpret\n",
    "alpha = 0.05\n",
    "if p > alpha:\n",
    "    print('Sample looks Gaussian (fail to reject H0)')\n",
    "else:\n",
    "    print('Sample does not look Gaussian (reject H0)')"
   ]
  },
  {
   "cell_type": "markdown",
   "metadata": {
    "colab_type": "text",
    "id": "TqloJiNXiirJ"
   },
   "source": [
    "#### Conclussion : the data about performance of the new Drug stored as Result 1 follows Normal Distribution\n"
   ]
  },
  {
   "cell_type": "markdown",
   "metadata": {},
   "source": [
    "#### Step 2 : Normality test of the effect of the new drug for stage 2"
   ]
  },
  {
   "cell_type": "markdown",
   "metadata": {
    "colab_type": "text",
    "id": "3oD93Anpwq2S"
   },
   "source": [
    "#### Hypothesis of shapiro test :\n",
    "\n",
    "*   Null Hypothesis : Populaton follow Normal Distribution\n",
    "*   Alternative Hypothesis:Population does not follow Normal Distribution"
   ]
  },
  {
   "cell_type": "code",
   "execution_count": 45,
   "metadata": {
    "colab": {
     "base_uri": "https://localhost:8080/",
     "height": 51
    },
    "colab_type": "code",
    "id": "YamJHsvPy7Dw",
    "outputId": "79bb9d01-82c0-470e-e95b-89791c03a73a"
   },
   "outputs": [
    {
     "name": "stdout",
     "output_type": "stream",
     "text": [
      "Statistics=1.000, p=0.763\n",
      "Sample looks Gaussian (fail to reject H0)\n"
     ]
    }
   ],
   "source": [
    "from scipy.stats import shapiro\n",
    "# normality test\n",
    "stat, p = shapiro(data['New_2'])\n",
    "print('Statistics=%.3f, p=%.3f' % (stat, p))\n",
    "# interpret\n",
    "alpha = 0.05\n",
    "if p > alpha:\n",
    "    print('Sample looks Gaussian (fail to reject H0)')\n",
    "else:\n",
    "    print('Sample does not look Gaussian (reject H0)')"
   ]
  },
  {
   "cell_type": "markdown",
   "metadata": {
    "colab_type": "text",
    "id": "ESKgnzLLikjB"
   },
   "source": [
    "#### Conclussion : the data about performance of the new Drug stored as Result 2 follows Normal Distribution."
   ]
  },
  {
   "cell_type": "markdown",
   "metadata": {},
   "source": [
    "#### Step 3 : Pair-wise t-test : now we can perform a pairwise t-teston Result-1 and Result-2."
   ]
  },
  {
   "cell_type": "code",
   "execution_count": 46,
   "metadata": {
    "colab": {
     "base_uri": "https://localhost:8080/",
     "height": 51
    },
    "colab_type": "code",
    "id": "VZqH1VlUy0OD",
    "outputId": "e6e38993-3604-4937-a43c-a52aac2effb1"
   },
   "outputs": [
    {
     "name": "stdout",
     "output_type": "stream",
     "text": [
      "Ttest_relResult(statistic=1.241305421533698, pvalue=0.21455118521659772)\n",
      "The treatment has no significant effect (fail to reject H0)\n"
     ]
    }
   ],
   "source": [
    "print(stats.ttest_rel(data['New_1'], data['New_2']))\n",
    "p = stats.ttest_rel(data['New_1'], data['New_2'])[1]\n",
    "alpha = 0.05\n",
    "if p < alpha :\n",
    "    print('The treatment has significant effect (reject H0)')\n",
    "else:\n",
    "    print('The treatment has no significant effect (fail to reject H0)')"
   ]
  },
  {
   "cell_type": "markdown",
   "metadata": {
    "colab_type": "text",
    "id": "-JP60TbhilwN"
   },
   "source": [
    "#### Conclussion : the performance of the new Drug in Result-1 & Result-2 have no significant difference"
   ]
  },
  {
   "cell_type": "markdown",
   "metadata": {},
   "source": [
    "## Test 5.b : We will compare the result of the new Drug over stage 1 & Stage 3 ,first.\n",
    "\n",
    "*   Null Hypothesis :The performance of Result-1 = The performance of Result-3\n",
    "*   Alternative Hypothesis :The performance of Result-1 ≠ The performance of Result-3 \n",
    "\n",
    "As in the data(effect of the new Drug) has been collected on the same patient(as in the same population) ,this is clearly the case of pair-wise t-test.\n",
    "\n",
    "Before conducting the pair-wise t-test,we need to test whether the performance of Result-1 & Result-3 follows Normal distribution."
   ]
  },
  {
   "cell_type": "markdown",
   "metadata": {},
   "source": [
    "#### Step 1 : Normality test of the effect of the new drug for stage 1"
   ]
  },
  {
   "cell_type": "markdown",
   "metadata": {
    "colab_type": "text",
    "id": "pGhPZ9pewsWY"
   },
   "source": [
    "#### Hypothesis of shapiro test :\n",
    "\n",
    "*   Null Hypothesis : Populaton follow Normal Distribution\n",
    "*   Alternative Hypothesis:Population does not follow Normal Distribution"
   ]
  },
  {
   "cell_type": "code",
   "execution_count": 47,
   "metadata": {
    "colab": {
     "base_uri": "https://localhost:8080/",
     "height": 51
    },
    "colab_type": "code",
    "id": "I1owhSmxHmG3",
    "outputId": "08038c4c-8dff-4927-9e04-a17bbb647f79"
   },
   "outputs": [
    {
     "name": "stdout",
     "output_type": "stream",
     "text": [
      "Statistics=1.000, p=0.518\n",
      "Sample looks Gaussian (fail to reject H0)\n"
     ]
    }
   ],
   "source": [
    "from scipy.stats import shapiro\n",
    "# normality test\n",
    "stat, p = shapiro(data['New_1'])\n",
    "print('Statistics=%.3f, p=%.3f' % (stat, p))\n",
    "# interpret\n",
    "alpha = 0.05\n",
    "if p > alpha:\n",
    "    print('Sample looks Gaussian (fail to reject H0)')\n",
    "else:\n",
    "    print('Sample does not look Gaussian (reject H0)')"
   ]
  },
  {
   "cell_type": "markdown",
   "metadata": {
    "colab_type": "text",
    "id": "gkTZBNv2xJFQ"
   },
   "source": [
    "#### Conclusion : the data about performance of the new Drug stored as Result 1 follows Normal Distribution"
   ]
  },
  {
   "cell_type": "markdown",
   "metadata": {},
   "source": [
    "#### Step 2 : Normality test of the effect of the new drug for stage 3"
   ]
  },
  {
   "cell_type": "markdown",
   "metadata": {
    "colab_type": "text",
    "id": "0dFdJFrbwtR9"
   },
   "source": [
    "#### Hypothesis of shapiro test :\n",
    "\n",
    "*   Null Hypothesis : Populaton follow Normal Distribution\n",
    "*   Alternative Hypothesis:Population does not follow Normal Distribution"
   ]
  },
  {
   "cell_type": "code",
   "execution_count": 48,
   "metadata": {
    "colab": {
     "base_uri": "https://localhost:8080/",
     "height": 51
    },
    "colab_type": "code",
    "id": "DYzwJ8DKy0Q5",
    "outputId": "a88bde0d-b146-44d1-91b6-c8270ade3824"
   },
   "outputs": [
    {
     "name": "stdout",
     "output_type": "stream",
     "text": [
      "Statistics=1.000, p=0.249\n",
      "Sample looks Gaussian (fail to reject H0)\n"
     ]
    }
   ],
   "source": [
    "from scipy.stats import shapiro\n",
    "# normality test\n",
    "stat, p = shapiro(data['New_3'])\n",
    "print('Statistics=%.3f, p=%.3f' % (stat, p))\n",
    "# interpret\n",
    "alpha = 0.05\n",
    "if p > alpha:\n",
    "    print('Sample looks Gaussian (fail to reject H0)')\n",
    "else:\n",
    "    print('Sample does not look Gaussian (reject H0)')"
   ]
  },
  {
   "cell_type": "markdown",
   "metadata": {
    "colab_type": "text",
    "id": "vo0xyQ3DxM8C"
   },
   "source": [
    "#### Conclusion : the data about performance of the new Drug stored as Result 3 follows Normal Distribution"
   ]
  },
  {
   "cell_type": "markdown",
   "metadata": {},
   "source": [
    "#### Step 3 : Pair-wise t-test : now we can perform a pairwise t-teston Result-1 and Result-3."
   ]
  },
  {
   "cell_type": "markdown",
   "metadata": {
    "colab_type": "text",
    "id": "nt16RDP92QkG"
   },
   "source": [
    "#### We will compare the result of the new Drug over stage 1 & Stage 3 ,first.\n",
    "\n",
    "*   Null Hypothesis :The performance of Result-1 = The performance of Result-3\n",
    "*   Alternative Hypothesis :The performance of Result-1 ≠ The performance of Result-3 \n",
    "\n",
    "As in the data(effect of the new Drug) has been collected on the same patient(as in the same population) ,this is clearly the case of pair-wise t-test."
   ]
  },
  {
   "cell_type": "code",
   "execution_count": 49,
   "metadata": {
    "colab": {
     "base_uri": "https://localhost:8080/",
     "height": 51
    },
    "colab_type": "code",
    "id": "5bfW2uH_HqPq",
    "outputId": "888e16cd-0f7f-4f57-c459-6fd9db528493"
   },
   "outputs": [
    {
     "name": "stdout",
     "output_type": "stream",
     "text": [
      "Ttest_relResult(statistic=88.05018179818472, pvalue=0.0)\n",
      "The treatment has significant effect (reject H0)\n"
     ]
    }
   ],
   "source": [
    "print(stats.ttest_rel(data['New_1'], data['New_3']))\n",
    "# Null Hypothesis: Result of Phase 1 is similar to Result of Phase 3\n",
    "# Alternative Hypothesis: Result of Phase 1 is different than  Result of Phase 3\n",
    "p = stats.ttest_rel(data['New_1'], data['New_3'])[1]\n",
    "alpha = 0.05\n",
    "if p < alpha :\n",
    "    print('The treatment has significant effect (reject H0)')\n",
    "else:\n",
    "    print('The treatment has no significant effect (fail to reject H0)')"
   ]
  },
  {
   "cell_type": "markdown",
   "metadata": {},
   "source": [
    "#### Conclusion : the performance of the new Drug in Result-1 & Result-3 have significant difference.\n"
   ]
  },
  {
   "cell_type": "markdown",
   "metadata": {
    "colab_type": "text",
    "id": "3WN6wT1hxpFf"
   },
   "source": [
    "## Test 5.c : Now we would like to see if the performance in Result 1 is better than the performance of Result 3 or not."
   ]
  },
  {
   "cell_type": "markdown",
   "metadata": {},
   "source": [
    "#### So we would like to consider the Hypothesis :\n",
    "\n",
    "*   Null Hypothesis : Result-1 performs better than Result 3\n",
    "*   Alternative Hypothesis : Result-1 does not perform better than Result 3"
   ]
  },
  {
   "cell_type": "code",
   "execution_count": 50,
   "metadata": {
    "colab": {
     "base_uri": "https://localhost:8080/",
     "height": 51
    },
    "colab_type": "code",
    "id": "BPg46_6_ZTc6",
    "outputId": "5a32c0c5-b3af-4959-e31b-ee95d74ba1a5"
   },
   "outputs": [
    {
     "name": "stdout",
     "output_type": "stream",
     "text": [
      "Ttest_relResult(statistic=88.05018179818472, pvalue=0.0)\n",
      "Mean of effect in phase 1 is less than Mean of of effect in phase 3 (reject H0)\n"
     ]
    }
   ],
   "source": [
    "print(stats.ttest_rel(data['New_1'], data['New_3']))\n",
    "# Null Hypothesis: Result of Phase 1 is better than  Result of Phase 3\n",
    "# Alternative Hypothesis: Result of Phase 1 is worse than  Result of Phase 3\n",
    "p = stats.ttest_rel(data['New_1'], data['New_3'])[1]\n",
    "alpha = 0.05\n",
    "if p/2 < alpha :\n",
    "    print('Mean of effect in phase 1 is less than Mean of of effect in phase 3 (reject H0)')\n",
    "else:\n",
    "    print('Mean of effect in phase 1 is more than Mean of of effect in phase 3 (fail to reject H0)')"
   ]
  },
  {
   "cell_type": "markdown",
   "metadata": {
    "colab_type": "text",
    "id": "h4O5SSppc4wc"
   },
   "source": [
    "#### Conclusion :\n",
    "Result of Phase 3 is better than  Result of Phase 1\n",
    "\n",
    "Even though there was no significant difference in the performance of Result-1 & Result-2,there is a significant diffrence in the performance of Result-1 & Result-3.To be more specific there is an improvement in Result-3 as compared to Result-1"
   ]
  },
  {
   "cell_type": "markdown",
   "metadata": {},
   "source": [
    "# Test 6 : Test the effect of the new drug over different age group "
   ]
  },
  {
   "cell_type": "code",
   "execution_count": 51,
   "metadata": {},
   "outputs": [],
   "source": [
    "# given data\n",
    "# total marks of students from group A\n",
    "gr_A = data[data['Age_group'] == 'group A']['New_3']\n",
    "\n",
    "# total marks of students from group B\n",
    "gr_B = data[data['Age_group'] == 'group B']['New_3']\n",
    "\n",
    "# total marks of students from group C\n",
    "gr_C = data[data['Age_group'] == 'group C']['New_3']\n",
    "\n",
    "# total marks of students from group D\n",
    "gr_D = data[data['Age_group'] == 'group D']['New_3']\n",
    "\n",
    "# total marks of students from group E\n",
    "gr_E = data[data['Age_group'] == 'group E']['New_3']"
   ]
  },
  {
   "cell_type": "code",
   "execution_count": 52,
   "metadata": {},
   "outputs": [
    {
     "name": "stdout",
     "output_type": "stream",
     "text": [
      "p-value: 0.24914191663265228\n",
      "Sample looks Gaussian (fail to reject H0)\n"
     ]
    }
   ],
   "source": [
    "# perform Shapiro-Wilk test to test the normality\n",
    "# shapiro() returns a tuple having the values of test statistics and the corresponding p-value\n",
    "# pass the total marks of students \n",
    "stat, p_value = stats.shapiro(data['New_3'])\n",
    "\n",
    "# print the p-value\n",
    "print('p-value:', p_value)\n",
    "# interpret\n",
    "alpha = 0.05\n",
    "if p_value > alpha:\n",
    "    print('Sample looks Gaussian (fail to reject H0)')\n",
    "else:\n",
    "    print('Sample does not look Gaussian (reject H0)')"
   ]
  },
  {
   "cell_type": "code",
   "execution_count": 53,
   "metadata": {},
   "outputs": [
    {
     "name": "stdout",
     "output_type": "stream",
     "text": [
      "P-Value: 0.2916281058790177\n",
      "the variance of effects of vaccine on different age group is not different (fail to reject H0)\n"
     ]
    }
   ],
   "source": [
    "# perform Levene's test for the equality of variances \n",
    "# levene() returns a tuple having the values of test statistics and the corresponding p-value\n",
    "# pass the total scores of students from each group\n",
    "stat, p_value = stats.levene(gr_A, gr_B, gr_C, gr_D, gr_E)\n",
    "\n",
    "# print the p-value \n",
    "print('P-Value:', p_value)\n",
    "# interpret\n",
    "alpha = 0.05\n",
    "if p_value > alpha:\n",
    "    print('the variance of effects of vaccine on different age group is not different (fail to reject H0)')\n",
    "else:\n",
    "    print('the variance of effects of vaccine on different age group is different. (reject H0)')"
   ]
  },
  {
   "cell_type": "code",
   "execution_count": 54,
   "metadata": {},
   "outputs": [
    {
     "name": "stdout",
     "output_type": "stream",
     "text": [
      "Test statistic: 0.8102960966691605\n",
      "p-value: 0.518369274029178\n",
      "Average effect of vaccine on different age group is not different (fail to reject H0)\n"
     ]
    }
   ],
   "source": [
    "# perform one-way ANOVA\n",
    "# pass the given data\n",
    "f_test, p_val = stats.f_oneway(gr_A, gr_B, gr_C, gr_D, gr_E)\n",
    "\n",
    "# print the test statistic and corresponding p-value\n",
    "print('Test statistic:', f_test)\n",
    "print('p-value:', p_val)\n",
    "# interpret\n",
    "alpha = 0.05\n",
    "if p_value > alpha:\n",
    "    print('Average effect of vaccine on different age group is not different (fail to reject H0)')\n",
    "else:\n",
    "    print('Average effect of vaccine on different age group is different. (reject H0)')"
   ]
  },
  {
   "cell_type": "markdown",
   "metadata": {},
   "source": [
    "#### Conclusion :\n",
    "\n",
    "Average effect of vaccine on different age group is not different "
   ]
  }
 ],
 "metadata": {
  "colab": {
   "name": "StatCaseStudy.ipynb",
   "provenance": []
  },
  "kernelspec": {
   "display_name": "Python 3 (ipykernel)",
   "language": "python",
   "name": "python3"
  },
  "language_info": {
   "codemirror_mode": {
    "name": "ipython",
    "version": 3
   },
   "file_extension": ".py",
   "mimetype": "text/x-python",
   "name": "python",
   "nbconvert_exporter": "python",
   "pygments_lexer": "ipython3",
   "version": "3.9.7"
  }
 },
 "nbformat": 4,
 "nbformat_minor": 1
}
